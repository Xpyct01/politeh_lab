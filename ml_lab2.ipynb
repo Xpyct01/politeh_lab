{
  "nbformat": 4,
  "nbformat_minor": 0,
  "metadata": {
    "colab": {
      "provenance": []
    },
    "kernelspec": {
      "name": "python3",
      "display_name": "Python 3"
    },
    "language_info": {
      "name": "python"
    }
  },
  "cells": [
    {
      "cell_type": "markdown",
      "source": [
        "# Imports"
      ],
      "metadata": {
        "id": "vP-op36AFbZL"
      }
    },
    {
      "cell_type": "code",
      "source": [
        "! pip install featuretools"
      ],
      "metadata": {
        "colab": {
          "base_uri": "https://localhost:8080/"
        },
        "id": "jCBzC5uk3bOI",
        "outputId": "89bd35e1-c21d-429d-de28-4c86dd8715c6"
      },
      "execution_count": null,
      "outputs": [
        {
          "output_type": "stream",
          "name": "stdout",
          "text": [
            "Collecting featuretools\n",
            "  Downloading featuretools-1.28.0-py3-none-any.whl (619 kB)\n",
            "\u001b[?25l     \u001b[90m━━━━━━━━━━━━━━━━━━━━━━━━━━━━━━━━━━━━━━━━\u001b[0m \u001b[32m0.0/619.2 kB\u001b[0m \u001b[31m?\u001b[0m eta \u001b[36m-:--:--\u001b[0m\r\u001b[2K     \u001b[91m━━━━━━━\u001b[0m\u001b[90m╺\u001b[0m\u001b[90m━━━━━━━━━━━━━━━━━━━━━━━━━━━━━━━━\u001b[0m \u001b[32m112.6/619.2 kB\u001b[0m \u001b[31m3.1 MB/s\u001b[0m eta \u001b[36m0:00:01\u001b[0m\r\u001b[2K     \u001b[91m━━━━━━━━━━━━━━━━━━━━━━━\u001b[0m\u001b[90m╺\u001b[0m\u001b[90m━━━━━━━━━━━━━━━━\u001b[0m \u001b[32m358.4/619.2 kB\u001b[0m \u001b[31m5.3 MB/s\u001b[0m eta \u001b[36m0:00:01\u001b[0m\r\u001b[2K     \u001b[91m━━━━━━━━━━━━━━━━━━━━━━━━━━━━━━━━━━━━━━━\u001b[0m\u001b[91m╸\u001b[0m \u001b[32m614.4/619.2 kB\u001b[0m \u001b[31m6.3 MB/s\u001b[0m eta \u001b[36m0:00:01\u001b[0m\r\u001b[2K     \u001b[90m━━━━━━━━━━━━━━━━━━━━━━━━━━━━━━━━━━━━━━━━\u001b[0m \u001b[32m619.2/619.2 kB\u001b[0m \u001b[31m5.7 MB/s\u001b[0m eta \u001b[36m0:00:00\u001b[0m\n",
            "\u001b[?25hRequirement already satisfied: cloudpickle>=1.5.0 in /usr/local/lib/python3.10/dist-packages (from featuretools) (2.2.1)\n",
            "Collecting holidays<0.33,>=0.13 (from featuretools)\n",
            "  Downloading holidays-0.32-py3-none-any.whl (754 kB)\n",
            "\u001b[2K     \u001b[90m━━━━━━━━━━━━━━━━━━━━━━━━━━━━━━━━━━━━━━━━\u001b[0m \u001b[32m754.4/754.4 kB\u001b[0m \u001b[31m10.9 MB/s\u001b[0m eta \u001b[36m0:00:00\u001b[0m\n",
            "\u001b[?25hRequirement already satisfied: numpy>=1.21.0 in /usr/local/lib/python3.10/dist-packages (from featuretools) (1.23.5)\n",
            "Requirement already satisfied: packaging>=20.0 in /usr/local/lib/python3.10/dist-packages (from featuretools) (23.2)\n",
            "Requirement already satisfied: pandas>=1.5.0 in /usr/local/lib/python3.10/dist-packages (from featuretools) (1.5.3)\n",
            "Requirement already satisfied: psutil>=5.6.6 in /usr/local/lib/python3.10/dist-packages (from featuretools) (5.9.5)\n",
            "Requirement already satisfied: scipy>=1.10.0 in /usr/local/lib/python3.10/dist-packages (from featuretools) (1.11.4)\n",
            "Requirement already satisfied: tqdm>=4.32.0 in /usr/local/lib/python3.10/dist-packages (from featuretools) (4.66.1)\n",
            "Collecting woodwork>=0.23.0 (from featuretools)\n",
            "  Downloading woodwork-0.27.0-py3-none-any.whl (236 kB)\n",
            "\u001b[2K     \u001b[90m━━━━━━━━━━━━━━━━━━━━━━━━━━━━━━━━━━━━━━━━\u001b[0m \u001b[32m236.1/236.1 kB\u001b[0m \u001b[31m12.7 MB/s\u001b[0m eta \u001b[36m0:00:00\u001b[0m\n",
            "\u001b[?25hRequirement already satisfied: python-dateutil in /usr/local/lib/python3.10/dist-packages (from holidays<0.33,>=0.13->featuretools) (2.8.2)\n",
            "Requirement already satisfied: pytz>=2020.1 in /usr/local/lib/python3.10/dist-packages (from pandas>=1.5.0->featuretools) (2023.3.post1)\n",
            "Requirement already satisfied: scikit-learn>=0.22 in /usr/local/lib/python3.10/dist-packages (from woodwork>=0.23.0->featuretools) (1.2.2)\n",
            "Requirement already satisfied: importlib-resources>=5.10.0 in /usr/local/lib/python3.10/dist-packages (from woodwork>=0.23.0->featuretools) (6.1.1)\n",
            "Requirement already satisfied: six>=1.5 in /usr/local/lib/python3.10/dist-packages (from python-dateutil->holidays<0.33,>=0.13->featuretools) (1.16.0)\n",
            "Requirement already satisfied: joblib>=1.1.1 in /usr/local/lib/python3.10/dist-packages (from scikit-learn>=0.22->woodwork>=0.23.0->featuretools) (1.3.2)\n",
            "Requirement already satisfied: threadpoolctl>=2.0.0 in /usr/local/lib/python3.10/dist-packages (from scikit-learn>=0.22->woodwork>=0.23.0->featuretools) (3.2.0)\n",
            "Installing collected packages: holidays, woodwork, featuretools\n",
            "  Attempting uninstall: holidays\n",
            "    Found existing installation: holidays 0.38\n",
            "    Uninstalling holidays-0.38:\n",
            "      Successfully uninstalled holidays-0.38\n",
            "Successfully installed featuretools-1.28.0 holidays-0.32 woodwork-0.27.0\n"
          ]
        }
      ]
    },
    {
      "cell_type": "code",
      "source": [
        "! pip install optuna"
      ],
      "metadata": {
        "colab": {
          "base_uri": "https://localhost:8080/"
        },
        "id": "DlBejBy3BB6L",
        "outputId": "0000e4b2-80e1-4233-d4eb-a3dd791121bb"
      },
      "execution_count": null,
      "outputs": [
        {
          "output_type": "stream",
          "name": "stdout",
          "text": [
            "Requirement already satisfied: optuna in /usr/local/lib/python3.10/dist-packages (3.5.0)\n",
            "Requirement already satisfied: alembic>=1.5.0 in /usr/local/lib/python3.10/dist-packages (from optuna) (1.13.0)\n",
            "Requirement already satisfied: colorlog in /usr/local/lib/python3.10/dist-packages (from optuna) (6.8.0)\n",
            "Requirement already satisfied: numpy in /usr/local/lib/python3.10/dist-packages (from optuna) (1.23.5)\n",
            "Requirement already satisfied: packaging>=20.0 in /usr/local/lib/python3.10/dist-packages (from optuna) (23.2)\n",
            "Requirement already satisfied: sqlalchemy>=1.3.0 in /usr/local/lib/python3.10/dist-packages (from optuna) (2.0.23)\n",
            "Requirement already satisfied: tqdm in /usr/local/lib/python3.10/dist-packages (from optuna) (4.66.1)\n",
            "Requirement already satisfied: PyYAML in /usr/local/lib/python3.10/dist-packages (from optuna) (6.0.1)\n",
            "Requirement already satisfied: Mako in /usr/local/lib/python3.10/dist-packages (from alembic>=1.5.0->optuna) (1.3.0)\n",
            "Requirement already satisfied: typing-extensions>=4 in /usr/local/lib/python3.10/dist-packages (from alembic>=1.5.0->optuna) (4.5.0)\n",
            "Requirement already satisfied: greenlet!=0.4.17 in /usr/local/lib/python3.10/dist-packages (from sqlalchemy>=1.3.0->optuna) (3.0.1)\n",
            "Requirement already satisfied: MarkupSafe>=0.9.2 in /usr/local/lib/python3.10/dist-packages (from Mako->alembic>=1.5.0->optuna) (2.1.3)\n"
          ]
        }
      ]
    },
    {
      "cell_type": "code",
      "source": [
        "import numpy as np\n",
        "import pandas as pd\n",
        "import seaborn as sns\n",
        "import featuretools as ft\n",
        "import lightgbm as lgb\n",
        "from sklearn.preprocessing import OneHotEncoder, StandardScaler\n",
        "from sklearn.model_selection import train_test_split\n",
        "from sklearn.metrics import mean_squared_error, mean_absolute_percentage_error\n",
        "import optuna"
      ],
      "metadata": {
        "id": "JB62lsqiFIWD"
      },
      "execution_count": null,
      "outputs": []
    },
    {
      "cell_type": "markdown",
      "source": [
        "# Data loading"
      ],
      "metadata": {
        "id": "N1ZH64QrFhDx"
      }
    },
    {
      "cell_type": "code",
      "source": [
        "! gdown 1I4UJIytuZtFO_0o-YKz7kqwAro97KLM_"
      ],
      "metadata": {
        "colab": {
          "base_uri": "https://localhost:8080/"
        },
        "id": "82ivLr-UFVDy",
        "outputId": "32f24eb6-2c2a-469b-bfc5-a016b3ba8c36"
      },
      "execution_count": null,
      "outputs": [
        {
          "output_type": "stream",
          "name": "stdout",
          "text": [
            "Downloading...\n",
            "From: https://drive.google.com/uc?id=1I4UJIytuZtFO_0o-YKz7kqwAro97KLM_\n",
            "To: /content/estate_data.zip\n",
            "\r  0% 0.00/1.74M [00:00<?, ?B/s]\r 60% 1.05M/1.74M [00:00<00:00, 8.66MB/s]\r100% 1.74M/1.74M [00:00<00:00, 12.8MB/s]\n"
          ]
        }
      ]
    },
    {
      "cell_type": "code",
      "source": [
        "! unzip estate_data.zip"
      ],
      "metadata": {
        "colab": {
          "base_uri": "https://localhost:8080/"
        },
        "id": "5esVziDeFj-6",
        "outputId": "71c2ce6b-3497-4743-896c-20141060174d"
      },
      "execution_count": null,
      "outputs": [
        {
          "output_type": "stream",
          "name": "stdout",
          "text": [
            "Archive:  estate_data.zip\n",
            "  inflating: Home Sale Data.csv      \n"
          ]
        }
      ]
    },
    {
      "cell_type": "markdown",
      "source": [
        "# Data preprocessing"
      ],
      "metadata": {
        "id": "6IEsdlKyFkui"
      }
    },
    {
      "cell_type": "code",
      "source": [
        "data = pd.read_csv('Home Sale Data.csv', sep=';')"
      ],
      "metadata": {
        "id": "zdJOj1fPFmPK"
      },
      "execution_count": null,
      "outputs": []
    },
    {
      "cell_type": "markdown",
      "source": [
        "## Basic data preprocessing"
      ],
      "metadata": {
        "id": "dKgbePtDFrOi"
      }
    },
    {
      "cell_type": "code",
      "source": [
        "data['Studio'] = data['Number of rooms'].str.contains('Studio').astype(int)\n",
        "data.loc[data['Number of rooms'] == '10 and more than', 'Number of rooms'] = data.loc[data['Number of rooms'] == '10 and more than', 'Number of rooms'].copy().str[:2]\n",
        "data['Number of rooms'] = data['Number of rooms'].apply(lambda x: sum(map(float, [_ for _ in x.split('+') if _.isdigit()])))\n",
        "\n",
        "for floor in data['Floor location'].unique():\n",
        "    if not floor.isdigit():\n",
        "        data[floor] = np.int64(data['Floor location'] == floor)\n",
        "        data.loc[data['Floor location'] == floor, 'Floor location'] = 0\n",
        "data['Floor location'] = data['Floor location'].astype(int)\n",
        "\n",
        "data.loc[data['Number of floors'] == '30  and more than', 'Number of floors'] = data.loc[data['Number of floors'] == '30  and more than', 'Number of floors'].copy().str[:2]\n",
        "data['Number of floors'] = data['Number of floors'].astype(int)\n",
        "\n",
        "data.loc[data['Number of bathrooms'] == '6 and more than', 'Number of bathrooms'] = data.loc[data['Number of bathrooms'] == '6 and more than', 'Number of bathrooms'].copy().str[:2]\n",
        "data.loc[data['Number of bathrooms'] == 'Absent', 'Number of bathrooms'] = 0\n",
        "data['Number of bathrooms'] = data['Number of bathrooms'].astype(int)\n",
        "\n",
        "data['Price'] = data['Price'].str[:-3]\n",
        "data['Price'] = data['Price'].str.replace('.', '')\n",
        "data['Price'] = data['Price'].astype(int)\n",
        "data['Price'] = data['Price'].apply(np.log)"
      ],
      "metadata": {
        "colab": {
          "base_uri": "https://localhost:8080/"
        },
        "id": "xQ4FRuYoFtmi",
        "outputId": "9ce6d2a1-276c-4f34-a393-07ede7653179"
      },
      "execution_count": null,
      "outputs": [
        {
          "output_type": "stream",
          "name": "stderr",
          "text": [
            "<ipython-input-13-6031cb52cdb8>:19: FutureWarning: The default value of regex will change from True to False in a future version. In addition, single character regular expressions will *not* be treated as literal strings when regex=True.\n",
            "  data['Price'] = data['Price'].str.replace('.', '')\n"
          ]
        }
      ]
    },
    {
      "cell_type": "markdown",
      "source": [
        "## Datetime converting"
      ],
      "metadata": {
        "id": "1DloczYUGorS"
      }
    },
    {
      "cell_type": "code",
      "source": [
        "data['Adrtisement Date'] = data['Adrtisement Date'].astype('datetime64')\n",
        "data['Pick Up Data Time'] = data['Pick Up Data Time'].astype('datetime64')"
      ],
      "metadata": {
        "colab": {
          "base_uri": "https://localhost:8080/"
        },
        "id": "AEU_UweXGFbS",
        "outputId": "94a467dd-dc65-4fec-9543-6256e2539b3c"
      },
      "execution_count": null,
      "outputs": [
        {
          "output_type": "stream",
          "name": "stderr",
          "text": [
            "<ipython-input-14-1f4d34de0e84>:1: UserWarning: Parsing dates in DD/MM/YYYY format when dayfirst=False (the default) was specified. This may lead to inconsistently parsed dates! Specify a format to ensure consistent parsing.\n",
            "  data['Adrtisement Date'] = data['Adrtisement Date'].astype('datetime64')\n"
          ]
        }
      ]
    },
    {
      "cell_type": "markdown",
      "source": [
        "## Data encoding"
      ],
      "metadata": {
        "id": "S_OYeyfNQW2W"
      }
    },
    {
      "cell_type": "code",
      "source": [
        "categorical_columns = [column for column in data.columns if data[column].dtype == 'object']"
      ],
      "metadata": {
        "id": "mMzoYGK0QY0N"
      },
      "execution_count": null,
      "outputs": []
    },
    {
      "cell_type": "code",
      "source": [
        "encoder = OneHotEncoder(sparse_output=False, drop='if_binary')\n",
        "encoded_data = encoder.fit_transform(data[categorical_columns])\n",
        "encoded_df = pd.DataFrame(encoded_data, columns=encoder.get_feature_names_out())"
      ],
      "metadata": {
        "id": "xEhVU8wnQa6l"
      },
      "execution_count": null,
      "outputs": []
    },
    {
      "cell_type": "code",
      "source": [
        "data = data.drop(categorical_columns, axis=1)\n",
        "data = pd.concat([data.reset_index(drop=True), encoded_df], axis=1)"
      ],
      "metadata": {
        "id": "thKIjJOhQfdd"
      },
      "execution_count": null,
      "outputs": []
    },
    {
      "cell_type": "markdown",
      "source": [
        "## Feature engineering"
      ],
      "metadata": {
        "id": "cYgvq1TnGvSp"
      }
    },
    {
      "cell_type": "code",
      "source": [
        "columns_to_process = [\n",
        "    'm² (Gross)', 'm² (Net)', 'Number of rooms', 'Floor location',\n",
        "    'Number of floors', 'Number of bathrooms', 'Adrtisement Date',\n",
        "    'Pick Up Data Time'\n",
        "]\n",
        "columns_to_ignore = data.drop(columns_to_process, axis=1).columns.to_list()"
      ],
      "metadata": {
        "id": "4Fq95irJIAGB"
      },
      "execution_count": null,
      "outputs": []
    },
    {
      "cell_type": "code",
      "source": [
        "primitives = [\n",
        "    'square_root', 'add_numeric', 'divide_numeric', 'multiply_numeric',\n",
        "    'natural_logarithm', 'subtract_numeric', 'is_weekend', 'is_month_end',\n",
        "    'day_of_year', 'month', 'is_federal_holiday', 'is_month_start', 'week',\n",
        "    'weekday', 'is_leap_year', 'nth_week_of_month', 'day', 'year', 'season'\n",
        "]"
      ],
      "metadata": {
        "id": "-LGvJ5NWNsFg"
      },
      "execution_count": null,
      "outputs": []
    },
    {
      "cell_type": "code",
      "source": [
        "es = ft.EntitySet(id='data')\n",
        "es = es.add_dataframe(dataframe_name=\"data\", dataframe=data, index=\"index\")\n",
        "\n",
        "feature_matrix, feature_defs = ft.dfs(\n",
        "    entityset=es, target_dataframe_name='data',\n",
        "    trans_primitives = primitives,\n",
        "    ignore_columns={\"data\": columns_to_ignore},\n",
        ")\n",
        "\n",
        "feature_matrix.head()"
      ],
      "metadata": {
        "colab": {
          "base_uri": "https://localhost:8080/",
          "height": 517
        },
        "id": "3T7VoRWvJdJZ",
        "outputId": "60a6f3a7-e080-4f9f-96c8-7ef1b6ad6625"
      },
      "execution_count": null,
      "outputs": [
        {
          "output_type": "stream",
          "name": "stderr",
          "text": [
            "/usr/local/lib/python3.10/dist-packages/featuretools/entityset/entityset.py:1910: UserWarning: index index not found in dataframe, creating new integer column\n",
            "  warnings.warn(\n",
            "/usr/local/lib/python3.10/dist-packages/featuretools/synthesis/deep_feature_synthesis.py:169: UserWarning: Only one dataframe in entityset, changing max_depth to 1 since deeper features cannot be created\n",
            "  warnings.warn(\n",
            "/usr/local/lib/python3.10/dist-packages/pandas/core/arraylike.py:402: RuntimeWarning: divide by zero encountered in log\n",
            "  result = getattr(ufunc, method)(*inputs, **kwargs)\n",
            "/usr/local/lib/python3.10/dist-packages/pandas/core/arraylike.py:402: RuntimeWarning: divide by zero encountered in log\n",
            "  result = getattr(ufunc, method)(*inputs, **kwargs)\n"
          ]
        },
        {
          "output_type": "execute_result",
          "data": {
            "text/plain": [
              "       m² (Gross)  m² (Net)  Number of rooms  Floor location  \\\n",
              "index                                                          \n",
              "0              50        40              2.0               5   \n",
              "1              42        42              2.0               0   \n",
              "2              55        45              2.0               0   \n",
              "3              62        46              2.0               0   \n",
              "4              70        55              2.0               0   \n",
              "\n",
              "       Number of floors  Number of bathrooms  \\\n",
              "index                                          \n",
              "0                    13                    1   \n",
              "1                     3                    1   \n",
              "2                     7                    1   \n",
              "3                     5                    1   \n",
              "4                     4                    1   \n",
              "\n",
              "       Floor location + Number of bathrooms  \\\n",
              "index                                         \n",
              "0                                       6.0   \n",
              "1                                       1.0   \n",
              "2                                       1.0   \n",
              "3                                       1.0   \n",
              "4                                       1.0   \n",
              "\n",
              "       Floor location + Number of floors  Floor location + Number of rooms  \\\n",
              "index                                                                        \n",
              "0                                   18.0                               7.0   \n",
              "1                                    3.0                               2.0   \n",
              "2                                    7.0                               2.0   \n",
              "3                                    5.0                               2.0   \n",
              "4                                    4.0                               2.0   \n",
              "\n",
              "       Floor location + m² (Gross)  ...  m² (Gross) - m² (Net)  \\\n",
              "index                               ...                          \n",
              "0                             55.0  ...                   10.0   \n",
              "1                             42.0  ...                    0.0   \n",
              "2                             55.0  ...                   10.0   \n",
              "3                             62.0  ...                   16.0   \n",
              "4                             70.0  ...                   15.0   \n",
              "\n",
              "       m² (Net) - Number of bathrooms  m² (Net) - Number of floors  \\\n",
              "index                                                                \n",
              "0                                39.0                         27.0   \n",
              "1                                41.0                         39.0   \n",
              "2                                44.0                         38.0   \n",
              "3                                45.0                         41.0   \n",
              "4                                54.0                         51.0   \n",
              "\n",
              "       m² (Net) - Number of rooms  WEEK(Adrtisement Date)  \\\n",
              "index                                                       \n",
              "0                            38.0                      14   \n",
              "1                            40.0                      23   \n",
              "2                            43.0                       1   \n",
              "3                            44.0                      52   \n",
              "4                            53.0                       1   \n",
              "\n",
              "       WEEK(Pick Up Data Time)  WEEKDAY(Adrtisement Date)  \\\n",
              "index                                                       \n",
              "0                            2                          2   \n",
              "1                            2                          0   \n",
              "2                            2                          1   \n",
              "3                            2                          6   \n",
              "4                            2                          2   \n",
              "\n",
              "       WEEKDAY(Pick Up Data Time)  YEAR(Adrtisement Date)  \\\n",
              "index                                                       \n",
              "0                               2                    2020   \n",
              "1                               4                    2020   \n",
              "2                               4                    2019   \n",
              "3                               4                    2019   \n",
              "4                               1                    2020   \n",
              "\n",
              "       YEAR(Pick Up Data Time)  \n",
              "index                           \n",
              "0                         2020  \n",
              "1                         2020  \n",
              "2                         2020  \n",
              "3                         2020  \n",
              "4                         2020  \n",
              "\n",
              "[5 rows x 119 columns]"
            ],
            "text/html": [
              "\n",
              "  <div id=\"df-3fcc1ab7-153c-4da1-90fe-813a231f616a\" class=\"colab-df-container\">\n",
              "    <div>\n",
              "<style scoped>\n",
              "    .dataframe tbody tr th:only-of-type {\n",
              "        vertical-align: middle;\n",
              "    }\n",
              "\n",
              "    .dataframe tbody tr th {\n",
              "        vertical-align: top;\n",
              "    }\n",
              "\n",
              "    .dataframe thead th {\n",
              "        text-align: right;\n",
              "    }\n",
              "</style>\n",
              "<table border=\"1\" class=\"dataframe\">\n",
              "  <thead>\n",
              "    <tr style=\"text-align: right;\">\n",
              "      <th></th>\n",
              "      <th>m² (Gross)</th>\n",
              "      <th>m² (Net)</th>\n",
              "      <th>Number of rooms</th>\n",
              "      <th>Floor location</th>\n",
              "      <th>Number of floors</th>\n",
              "      <th>Number of bathrooms</th>\n",
              "      <th>Floor location + Number of bathrooms</th>\n",
              "      <th>Floor location + Number of floors</th>\n",
              "      <th>Floor location + Number of rooms</th>\n",
              "      <th>Floor location + m² (Gross)</th>\n",
              "      <th>...</th>\n",
              "      <th>m² (Gross) - m² (Net)</th>\n",
              "      <th>m² (Net) - Number of bathrooms</th>\n",
              "      <th>m² (Net) - Number of floors</th>\n",
              "      <th>m² (Net) - Number of rooms</th>\n",
              "      <th>WEEK(Adrtisement Date)</th>\n",
              "      <th>WEEK(Pick Up Data Time)</th>\n",
              "      <th>WEEKDAY(Adrtisement Date)</th>\n",
              "      <th>WEEKDAY(Pick Up Data Time)</th>\n",
              "      <th>YEAR(Adrtisement Date)</th>\n",
              "      <th>YEAR(Pick Up Data Time)</th>\n",
              "    </tr>\n",
              "    <tr>\n",
              "      <th>index</th>\n",
              "      <th></th>\n",
              "      <th></th>\n",
              "      <th></th>\n",
              "      <th></th>\n",
              "      <th></th>\n",
              "      <th></th>\n",
              "      <th></th>\n",
              "      <th></th>\n",
              "      <th></th>\n",
              "      <th></th>\n",
              "      <th></th>\n",
              "      <th></th>\n",
              "      <th></th>\n",
              "      <th></th>\n",
              "      <th></th>\n",
              "      <th></th>\n",
              "      <th></th>\n",
              "      <th></th>\n",
              "      <th></th>\n",
              "      <th></th>\n",
              "      <th></th>\n",
              "    </tr>\n",
              "  </thead>\n",
              "  <tbody>\n",
              "    <tr>\n",
              "      <th>0</th>\n",
              "      <td>50</td>\n",
              "      <td>40</td>\n",
              "      <td>2.0</td>\n",
              "      <td>5</td>\n",
              "      <td>13</td>\n",
              "      <td>1</td>\n",
              "      <td>6.0</td>\n",
              "      <td>18.0</td>\n",
              "      <td>7.0</td>\n",
              "      <td>55.0</td>\n",
              "      <td>...</td>\n",
              "      <td>10.0</td>\n",
              "      <td>39.0</td>\n",
              "      <td>27.0</td>\n",
              "      <td>38.0</td>\n",
              "      <td>14</td>\n",
              "      <td>2</td>\n",
              "      <td>2</td>\n",
              "      <td>2</td>\n",
              "      <td>2020</td>\n",
              "      <td>2020</td>\n",
              "    </tr>\n",
              "    <tr>\n",
              "      <th>1</th>\n",
              "      <td>42</td>\n",
              "      <td>42</td>\n",
              "      <td>2.0</td>\n",
              "      <td>0</td>\n",
              "      <td>3</td>\n",
              "      <td>1</td>\n",
              "      <td>1.0</td>\n",
              "      <td>3.0</td>\n",
              "      <td>2.0</td>\n",
              "      <td>42.0</td>\n",
              "      <td>...</td>\n",
              "      <td>0.0</td>\n",
              "      <td>41.0</td>\n",
              "      <td>39.0</td>\n",
              "      <td>40.0</td>\n",
              "      <td>23</td>\n",
              "      <td>2</td>\n",
              "      <td>0</td>\n",
              "      <td>4</td>\n",
              "      <td>2020</td>\n",
              "      <td>2020</td>\n",
              "    </tr>\n",
              "    <tr>\n",
              "      <th>2</th>\n",
              "      <td>55</td>\n",
              "      <td>45</td>\n",
              "      <td>2.0</td>\n",
              "      <td>0</td>\n",
              "      <td>7</td>\n",
              "      <td>1</td>\n",
              "      <td>1.0</td>\n",
              "      <td>7.0</td>\n",
              "      <td>2.0</td>\n",
              "      <td>55.0</td>\n",
              "      <td>...</td>\n",
              "      <td>10.0</td>\n",
              "      <td>44.0</td>\n",
              "      <td>38.0</td>\n",
              "      <td>43.0</td>\n",
              "      <td>1</td>\n",
              "      <td>2</td>\n",
              "      <td>1</td>\n",
              "      <td>4</td>\n",
              "      <td>2019</td>\n",
              "      <td>2020</td>\n",
              "    </tr>\n",
              "    <tr>\n",
              "      <th>3</th>\n",
              "      <td>62</td>\n",
              "      <td>46</td>\n",
              "      <td>2.0</td>\n",
              "      <td>0</td>\n",
              "      <td>5</td>\n",
              "      <td>1</td>\n",
              "      <td>1.0</td>\n",
              "      <td>5.0</td>\n",
              "      <td>2.0</td>\n",
              "      <td>62.0</td>\n",
              "      <td>...</td>\n",
              "      <td>16.0</td>\n",
              "      <td>45.0</td>\n",
              "      <td>41.0</td>\n",
              "      <td>44.0</td>\n",
              "      <td>52</td>\n",
              "      <td>2</td>\n",
              "      <td>6</td>\n",
              "      <td>4</td>\n",
              "      <td>2019</td>\n",
              "      <td>2020</td>\n",
              "    </tr>\n",
              "    <tr>\n",
              "      <th>4</th>\n",
              "      <td>70</td>\n",
              "      <td>55</td>\n",
              "      <td>2.0</td>\n",
              "      <td>0</td>\n",
              "      <td>4</td>\n",
              "      <td>1</td>\n",
              "      <td>1.0</td>\n",
              "      <td>4.0</td>\n",
              "      <td>2.0</td>\n",
              "      <td>70.0</td>\n",
              "      <td>...</td>\n",
              "      <td>15.0</td>\n",
              "      <td>54.0</td>\n",
              "      <td>51.0</td>\n",
              "      <td>53.0</td>\n",
              "      <td>1</td>\n",
              "      <td>2</td>\n",
              "      <td>2</td>\n",
              "      <td>1</td>\n",
              "      <td>2020</td>\n",
              "      <td>2020</td>\n",
              "    </tr>\n",
              "  </tbody>\n",
              "</table>\n",
              "<p>5 rows × 119 columns</p>\n",
              "</div>\n",
              "    <div class=\"colab-df-buttons\">\n",
              "\n",
              "  <div class=\"colab-df-container\">\n",
              "    <button class=\"colab-df-convert\" onclick=\"convertToInteractive('df-3fcc1ab7-153c-4da1-90fe-813a231f616a')\"\n",
              "            title=\"Convert this dataframe to an interactive table.\"\n",
              "            style=\"display:none;\">\n",
              "\n",
              "  <svg xmlns=\"http://www.w3.org/2000/svg\" height=\"24px\" viewBox=\"0 -960 960 960\">\n",
              "    <path d=\"M120-120v-720h720v720H120Zm60-500h600v-160H180v160Zm220 220h160v-160H400v160Zm0 220h160v-160H400v160ZM180-400h160v-160H180v160Zm440 0h160v-160H620v160ZM180-180h160v-160H180v160Zm440 0h160v-160H620v160Z\"/>\n",
              "  </svg>\n",
              "    </button>\n",
              "\n",
              "  <style>\n",
              "    .colab-df-container {\n",
              "      display:flex;\n",
              "      gap: 12px;\n",
              "    }\n",
              "\n",
              "    .colab-df-convert {\n",
              "      background-color: #E8F0FE;\n",
              "      border: none;\n",
              "      border-radius: 50%;\n",
              "      cursor: pointer;\n",
              "      display: none;\n",
              "      fill: #1967D2;\n",
              "      height: 32px;\n",
              "      padding: 0 0 0 0;\n",
              "      width: 32px;\n",
              "    }\n",
              "\n",
              "    .colab-df-convert:hover {\n",
              "      background-color: #E2EBFA;\n",
              "      box-shadow: 0px 1px 2px rgba(60, 64, 67, 0.3), 0px 1px 3px 1px rgba(60, 64, 67, 0.15);\n",
              "      fill: #174EA6;\n",
              "    }\n",
              "\n",
              "    .colab-df-buttons div {\n",
              "      margin-bottom: 4px;\n",
              "    }\n",
              "\n",
              "    [theme=dark] .colab-df-convert {\n",
              "      background-color: #3B4455;\n",
              "      fill: #D2E3FC;\n",
              "    }\n",
              "\n",
              "    [theme=dark] .colab-df-convert:hover {\n",
              "      background-color: #434B5C;\n",
              "      box-shadow: 0px 1px 3px 1px rgba(0, 0, 0, 0.15);\n",
              "      filter: drop-shadow(0px 1px 2px rgba(0, 0, 0, 0.3));\n",
              "      fill: #FFFFFF;\n",
              "    }\n",
              "  </style>\n",
              "\n",
              "    <script>\n",
              "      const buttonEl =\n",
              "        document.querySelector('#df-3fcc1ab7-153c-4da1-90fe-813a231f616a button.colab-df-convert');\n",
              "      buttonEl.style.display =\n",
              "        google.colab.kernel.accessAllowed ? 'block' : 'none';\n",
              "\n",
              "      async function convertToInteractive(key) {\n",
              "        const element = document.querySelector('#df-3fcc1ab7-153c-4da1-90fe-813a231f616a');\n",
              "        const dataTable =\n",
              "          await google.colab.kernel.invokeFunction('convertToInteractive',\n",
              "                                                    [key], {});\n",
              "        if (!dataTable) return;\n",
              "\n",
              "        const docLinkHtml = 'Like what you see? Visit the ' +\n",
              "          '<a target=\"_blank\" href=https://colab.research.google.com/notebooks/data_table.ipynb>data table notebook</a>'\n",
              "          + ' to learn more about interactive tables.';\n",
              "        element.innerHTML = '';\n",
              "        dataTable['output_type'] = 'display_data';\n",
              "        await google.colab.output.renderOutput(dataTable, element);\n",
              "        const docLink = document.createElement('div');\n",
              "        docLink.innerHTML = docLinkHtml;\n",
              "        element.appendChild(docLink);\n",
              "      }\n",
              "    </script>\n",
              "  </div>\n",
              "\n",
              "\n",
              "<div id=\"df-99997987-eccb-4158-8524-7d6500a005e9\">\n",
              "  <button class=\"colab-df-quickchart\" onclick=\"quickchart('df-99997987-eccb-4158-8524-7d6500a005e9')\"\n",
              "            title=\"Suggest charts\"\n",
              "            style=\"display:none;\">\n",
              "\n",
              "<svg xmlns=\"http://www.w3.org/2000/svg\" height=\"24px\"viewBox=\"0 0 24 24\"\n",
              "     width=\"24px\">\n",
              "    <g>\n",
              "        <path d=\"M19 3H5c-1.1 0-2 .9-2 2v14c0 1.1.9 2 2 2h14c1.1 0 2-.9 2-2V5c0-1.1-.9-2-2-2zM9 17H7v-7h2v7zm4 0h-2V7h2v10zm4 0h-2v-4h2v4z\"/>\n",
              "    </g>\n",
              "</svg>\n",
              "  </button>\n",
              "\n",
              "<style>\n",
              "  .colab-df-quickchart {\n",
              "      --bg-color: #E8F0FE;\n",
              "      --fill-color: #1967D2;\n",
              "      --hover-bg-color: #E2EBFA;\n",
              "      --hover-fill-color: #174EA6;\n",
              "      --disabled-fill-color: #AAA;\n",
              "      --disabled-bg-color: #DDD;\n",
              "  }\n",
              "\n",
              "  [theme=dark] .colab-df-quickchart {\n",
              "      --bg-color: #3B4455;\n",
              "      --fill-color: #D2E3FC;\n",
              "      --hover-bg-color: #434B5C;\n",
              "      --hover-fill-color: #FFFFFF;\n",
              "      --disabled-bg-color: #3B4455;\n",
              "      --disabled-fill-color: #666;\n",
              "  }\n",
              "\n",
              "  .colab-df-quickchart {\n",
              "    background-color: var(--bg-color);\n",
              "    border: none;\n",
              "    border-radius: 50%;\n",
              "    cursor: pointer;\n",
              "    display: none;\n",
              "    fill: var(--fill-color);\n",
              "    height: 32px;\n",
              "    padding: 0;\n",
              "    width: 32px;\n",
              "  }\n",
              "\n",
              "  .colab-df-quickchart:hover {\n",
              "    background-color: var(--hover-bg-color);\n",
              "    box-shadow: 0 1px 2px rgba(60, 64, 67, 0.3), 0 1px 3px 1px rgba(60, 64, 67, 0.15);\n",
              "    fill: var(--button-hover-fill-color);\n",
              "  }\n",
              "\n",
              "  .colab-df-quickchart-complete:disabled,\n",
              "  .colab-df-quickchart-complete:disabled:hover {\n",
              "    background-color: var(--disabled-bg-color);\n",
              "    fill: var(--disabled-fill-color);\n",
              "    box-shadow: none;\n",
              "  }\n",
              "\n",
              "  .colab-df-spinner {\n",
              "    border: 2px solid var(--fill-color);\n",
              "    border-color: transparent;\n",
              "    border-bottom-color: var(--fill-color);\n",
              "    animation:\n",
              "      spin 1s steps(1) infinite;\n",
              "  }\n",
              "\n",
              "  @keyframes spin {\n",
              "    0% {\n",
              "      border-color: transparent;\n",
              "      border-bottom-color: var(--fill-color);\n",
              "      border-left-color: var(--fill-color);\n",
              "    }\n",
              "    20% {\n",
              "      border-color: transparent;\n",
              "      border-left-color: var(--fill-color);\n",
              "      border-top-color: var(--fill-color);\n",
              "    }\n",
              "    30% {\n",
              "      border-color: transparent;\n",
              "      border-left-color: var(--fill-color);\n",
              "      border-top-color: var(--fill-color);\n",
              "      border-right-color: var(--fill-color);\n",
              "    }\n",
              "    40% {\n",
              "      border-color: transparent;\n",
              "      border-right-color: var(--fill-color);\n",
              "      border-top-color: var(--fill-color);\n",
              "    }\n",
              "    60% {\n",
              "      border-color: transparent;\n",
              "      border-right-color: var(--fill-color);\n",
              "    }\n",
              "    80% {\n",
              "      border-color: transparent;\n",
              "      border-right-color: var(--fill-color);\n",
              "      border-bottom-color: var(--fill-color);\n",
              "    }\n",
              "    90% {\n",
              "      border-color: transparent;\n",
              "      border-bottom-color: var(--fill-color);\n",
              "    }\n",
              "  }\n",
              "</style>\n",
              "\n",
              "  <script>\n",
              "    async function quickchart(key) {\n",
              "      const quickchartButtonEl =\n",
              "        document.querySelector('#' + key + ' button');\n",
              "      quickchartButtonEl.disabled = true;  // To prevent multiple clicks.\n",
              "      quickchartButtonEl.classList.add('colab-df-spinner');\n",
              "      try {\n",
              "        const charts = await google.colab.kernel.invokeFunction(\n",
              "            'suggestCharts', [key], {});\n",
              "      } catch (error) {\n",
              "        console.error('Error during call to suggestCharts:', error);\n",
              "      }\n",
              "      quickchartButtonEl.classList.remove('colab-df-spinner');\n",
              "      quickchartButtonEl.classList.add('colab-df-quickchart-complete');\n",
              "    }\n",
              "    (() => {\n",
              "      let quickchartButtonEl =\n",
              "        document.querySelector('#df-99997987-eccb-4158-8524-7d6500a005e9 button');\n",
              "      quickchartButtonEl.style.display =\n",
              "        google.colab.kernel.accessAllowed ? 'block' : 'none';\n",
              "    })();\n",
              "  </script>\n",
              "</div>\n",
              "    </div>\n",
              "  </div>\n"
            ]
          },
          "metadata": {},
          "execution_count": 20
        }
      ]
    },
    {
      "cell_type": "code",
      "source": [
        "feature_matrix_train_enc, features_enc = ft.encode_features(\n",
        "    feature_matrix, feature_defs\n",
        ")\n",
        "feature_matrix_train_enc.head()"
      ],
      "metadata": {
        "colab": {
          "base_uri": "https://localhost:8080/",
          "height": 356
        },
        "id": "b4IVLqS8DLSb",
        "outputId": "c5ffb2d3-bff6-4395-cc80-064643aa6a14"
      },
      "execution_count": null,
      "outputs": [
        {
          "output_type": "execute_result",
          "data": {
            "text/plain": [
              "       m² (Gross)  m² (Net)  Number of rooms  Floor location  \\\n",
              "index                                                          \n",
              "0              50        40              2.0               5   \n",
              "1              42        42              2.0               0   \n",
              "2              55        45              2.0               0   \n",
              "3              62        46              2.0               0   \n",
              "4              70        55              2.0               0   \n",
              "\n",
              "       Number of floors  Number of bathrooms  \\\n",
              "index                                          \n",
              "0                    13                    1   \n",
              "1                     3                    1   \n",
              "2                     7                    1   \n",
              "3                     5                    1   \n",
              "4                     4                    1   \n",
              "\n",
              "       Floor location + Number of bathrooms  \\\n",
              "index                                         \n",
              "0                                       6.0   \n",
              "1                                       1.0   \n",
              "2                                       1.0   \n",
              "3                                       1.0   \n",
              "4                                       1.0   \n",
              "\n",
              "       Floor location + Number of floors  Floor location + Number of rooms  \\\n",
              "index                                                                        \n",
              "0                                   18.0                               7.0   \n",
              "1                                    3.0                               2.0   \n",
              "2                                    7.0                               2.0   \n",
              "3                                    5.0                               2.0   \n",
              "4                                    4.0                               2.0   \n",
              "\n",
              "       Floor location + m² (Gross)  ...  WEEKDAY(Pick Up Data Time) = 2  \\\n",
              "index                               ...                                   \n",
              "0                             55.0  ...                            True   \n",
              "1                             42.0  ...                           False   \n",
              "2                             55.0  ...                           False   \n",
              "3                             62.0  ...                           False   \n",
              "4                             70.0  ...                           False   \n",
              "\n",
              "       WEEKDAY(Pick Up Data Time) = 1  WEEKDAY(Pick Up Data Time) = 3  \\\n",
              "index                                                                   \n",
              "0                               False                           False   \n",
              "1                               False                           False   \n",
              "2                               False                           False   \n",
              "3                               False                           False   \n",
              "4                                True                           False   \n",
              "\n",
              "       WEEKDAY(Pick Up Data Time) is unknown  YEAR(Adrtisement Date) = 2020  \\\n",
              "index                                                                         \n",
              "0                                      False                           True   \n",
              "1                                      False                           True   \n",
              "2                                      False                          False   \n",
              "3                                      False                          False   \n",
              "4                                      False                           True   \n",
              "\n",
              "       YEAR(Adrtisement Date) = 2019  YEAR(Adrtisement Date) = 2018  \\\n",
              "index                                                                 \n",
              "0                              False                          False   \n",
              "1                              False                          False   \n",
              "2                               True                          False   \n",
              "3                               True                          False   \n",
              "4                              False                          False   \n",
              "\n",
              "       YEAR(Adrtisement Date) is unknown  YEAR(Pick Up Data Time) = 2020  \\\n",
              "index                                                                      \n",
              "0                                  False                            True   \n",
              "1                                  False                            True   \n",
              "2                                  False                            True   \n",
              "3                                  False                            True   \n",
              "4                                  False                            True   \n",
              "\n",
              "       YEAR(Pick Up Data Time) is unknown  \n",
              "index                                      \n",
              "0                                   False  \n",
              "1                                   False  \n",
              "2                                   False  \n",
              "3                                   False  \n",
              "4                                   False  \n",
              "\n",
              "[5 rows x 189 columns]"
            ],
            "text/html": [
              "\n",
              "  <div id=\"df-b9fb3838-df04-421c-81ac-1879bf97e0ae\" class=\"colab-df-container\">\n",
              "    <div>\n",
              "<style scoped>\n",
              "    .dataframe tbody tr th:only-of-type {\n",
              "        vertical-align: middle;\n",
              "    }\n",
              "\n",
              "    .dataframe tbody tr th {\n",
              "        vertical-align: top;\n",
              "    }\n",
              "\n",
              "    .dataframe thead th {\n",
              "        text-align: right;\n",
              "    }\n",
              "</style>\n",
              "<table border=\"1\" class=\"dataframe\">\n",
              "  <thead>\n",
              "    <tr style=\"text-align: right;\">\n",
              "      <th></th>\n",
              "      <th>m² (Gross)</th>\n",
              "      <th>m² (Net)</th>\n",
              "      <th>Number of rooms</th>\n",
              "      <th>Floor location</th>\n",
              "      <th>Number of floors</th>\n",
              "      <th>Number of bathrooms</th>\n",
              "      <th>Floor location + Number of bathrooms</th>\n",
              "      <th>Floor location + Number of floors</th>\n",
              "      <th>Floor location + Number of rooms</th>\n",
              "      <th>Floor location + m² (Gross)</th>\n",
              "      <th>...</th>\n",
              "      <th>WEEKDAY(Pick Up Data Time) = 2</th>\n",
              "      <th>WEEKDAY(Pick Up Data Time) = 1</th>\n",
              "      <th>WEEKDAY(Pick Up Data Time) = 3</th>\n",
              "      <th>WEEKDAY(Pick Up Data Time) is unknown</th>\n",
              "      <th>YEAR(Adrtisement Date) = 2020</th>\n",
              "      <th>YEAR(Adrtisement Date) = 2019</th>\n",
              "      <th>YEAR(Adrtisement Date) = 2018</th>\n",
              "      <th>YEAR(Adrtisement Date) is unknown</th>\n",
              "      <th>YEAR(Pick Up Data Time) = 2020</th>\n",
              "      <th>YEAR(Pick Up Data Time) is unknown</th>\n",
              "    </tr>\n",
              "    <tr>\n",
              "      <th>index</th>\n",
              "      <th></th>\n",
              "      <th></th>\n",
              "      <th></th>\n",
              "      <th></th>\n",
              "      <th></th>\n",
              "      <th></th>\n",
              "      <th></th>\n",
              "      <th></th>\n",
              "      <th></th>\n",
              "      <th></th>\n",
              "      <th></th>\n",
              "      <th></th>\n",
              "      <th></th>\n",
              "      <th></th>\n",
              "      <th></th>\n",
              "      <th></th>\n",
              "      <th></th>\n",
              "      <th></th>\n",
              "      <th></th>\n",
              "      <th></th>\n",
              "      <th></th>\n",
              "    </tr>\n",
              "  </thead>\n",
              "  <tbody>\n",
              "    <tr>\n",
              "      <th>0</th>\n",
              "      <td>50</td>\n",
              "      <td>40</td>\n",
              "      <td>2.0</td>\n",
              "      <td>5</td>\n",
              "      <td>13</td>\n",
              "      <td>1</td>\n",
              "      <td>6.0</td>\n",
              "      <td>18.0</td>\n",
              "      <td>7.0</td>\n",
              "      <td>55.0</td>\n",
              "      <td>...</td>\n",
              "      <td>True</td>\n",
              "      <td>False</td>\n",
              "      <td>False</td>\n",
              "      <td>False</td>\n",
              "      <td>True</td>\n",
              "      <td>False</td>\n",
              "      <td>False</td>\n",
              "      <td>False</td>\n",
              "      <td>True</td>\n",
              "      <td>False</td>\n",
              "    </tr>\n",
              "    <tr>\n",
              "      <th>1</th>\n",
              "      <td>42</td>\n",
              "      <td>42</td>\n",
              "      <td>2.0</td>\n",
              "      <td>0</td>\n",
              "      <td>3</td>\n",
              "      <td>1</td>\n",
              "      <td>1.0</td>\n",
              "      <td>3.0</td>\n",
              "      <td>2.0</td>\n",
              "      <td>42.0</td>\n",
              "      <td>...</td>\n",
              "      <td>False</td>\n",
              "      <td>False</td>\n",
              "      <td>False</td>\n",
              "      <td>False</td>\n",
              "      <td>True</td>\n",
              "      <td>False</td>\n",
              "      <td>False</td>\n",
              "      <td>False</td>\n",
              "      <td>True</td>\n",
              "      <td>False</td>\n",
              "    </tr>\n",
              "    <tr>\n",
              "      <th>2</th>\n",
              "      <td>55</td>\n",
              "      <td>45</td>\n",
              "      <td>2.0</td>\n",
              "      <td>0</td>\n",
              "      <td>7</td>\n",
              "      <td>1</td>\n",
              "      <td>1.0</td>\n",
              "      <td>7.0</td>\n",
              "      <td>2.0</td>\n",
              "      <td>55.0</td>\n",
              "      <td>...</td>\n",
              "      <td>False</td>\n",
              "      <td>False</td>\n",
              "      <td>False</td>\n",
              "      <td>False</td>\n",
              "      <td>False</td>\n",
              "      <td>True</td>\n",
              "      <td>False</td>\n",
              "      <td>False</td>\n",
              "      <td>True</td>\n",
              "      <td>False</td>\n",
              "    </tr>\n",
              "    <tr>\n",
              "      <th>3</th>\n",
              "      <td>62</td>\n",
              "      <td>46</td>\n",
              "      <td>2.0</td>\n",
              "      <td>0</td>\n",
              "      <td>5</td>\n",
              "      <td>1</td>\n",
              "      <td>1.0</td>\n",
              "      <td>5.0</td>\n",
              "      <td>2.0</td>\n",
              "      <td>62.0</td>\n",
              "      <td>...</td>\n",
              "      <td>False</td>\n",
              "      <td>False</td>\n",
              "      <td>False</td>\n",
              "      <td>False</td>\n",
              "      <td>False</td>\n",
              "      <td>True</td>\n",
              "      <td>False</td>\n",
              "      <td>False</td>\n",
              "      <td>True</td>\n",
              "      <td>False</td>\n",
              "    </tr>\n",
              "    <tr>\n",
              "      <th>4</th>\n",
              "      <td>70</td>\n",
              "      <td>55</td>\n",
              "      <td>2.0</td>\n",
              "      <td>0</td>\n",
              "      <td>4</td>\n",
              "      <td>1</td>\n",
              "      <td>1.0</td>\n",
              "      <td>4.0</td>\n",
              "      <td>2.0</td>\n",
              "      <td>70.0</td>\n",
              "      <td>...</td>\n",
              "      <td>False</td>\n",
              "      <td>True</td>\n",
              "      <td>False</td>\n",
              "      <td>False</td>\n",
              "      <td>True</td>\n",
              "      <td>False</td>\n",
              "      <td>False</td>\n",
              "      <td>False</td>\n",
              "      <td>True</td>\n",
              "      <td>False</td>\n",
              "    </tr>\n",
              "  </tbody>\n",
              "</table>\n",
              "<p>5 rows × 189 columns</p>\n",
              "</div>\n",
              "    <div class=\"colab-df-buttons\">\n",
              "\n",
              "  <div class=\"colab-df-container\">\n",
              "    <button class=\"colab-df-convert\" onclick=\"convertToInteractive('df-b9fb3838-df04-421c-81ac-1879bf97e0ae')\"\n",
              "            title=\"Convert this dataframe to an interactive table.\"\n",
              "            style=\"display:none;\">\n",
              "\n",
              "  <svg xmlns=\"http://www.w3.org/2000/svg\" height=\"24px\" viewBox=\"0 -960 960 960\">\n",
              "    <path d=\"M120-120v-720h720v720H120Zm60-500h600v-160H180v160Zm220 220h160v-160H400v160Zm0 220h160v-160H400v160ZM180-400h160v-160H180v160Zm440 0h160v-160H620v160ZM180-180h160v-160H180v160Zm440 0h160v-160H620v160Z\"/>\n",
              "  </svg>\n",
              "    </button>\n",
              "\n",
              "  <style>\n",
              "    .colab-df-container {\n",
              "      display:flex;\n",
              "      gap: 12px;\n",
              "    }\n",
              "\n",
              "    .colab-df-convert {\n",
              "      background-color: #E8F0FE;\n",
              "      border: none;\n",
              "      border-radius: 50%;\n",
              "      cursor: pointer;\n",
              "      display: none;\n",
              "      fill: #1967D2;\n",
              "      height: 32px;\n",
              "      padding: 0 0 0 0;\n",
              "      width: 32px;\n",
              "    }\n",
              "\n",
              "    .colab-df-convert:hover {\n",
              "      background-color: #E2EBFA;\n",
              "      box-shadow: 0px 1px 2px rgba(60, 64, 67, 0.3), 0px 1px 3px 1px rgba(60, 64, 67, 0.15);\n",
              "      fill: #174EA6;\n",
              "    }\n",
              "\n",
              "    .colab-df-buttons div {\n",
              "      margin-bottom: 4px;\n",
              "    }\n",
              "\n",
              "    [theme=dark] .colab-df-convert {\n",
              "      background-color: #3B4455;\n",
              "      fill: #D2E3FC;\n",
              "    }\n",
              "\n",
              "    [theme=dark] .colab-df-convert:hover {\n",
              "      background-color: #434B5C;\n",
              "      box-shadow: 0px 1px 3px 1px rgba(0, 0, 0, 0.15);\n",
              "      filter: drop-shadow(0px 1px 2px rgba(0, 0, 0, 0.3));\n",
              "      fill: #FFFFFF;\n",
              "    }\n",
              "  </style>\n",
              "\n",
              "    <script>\n",
              "      const buttonEl =\n",
              "        document.querySelector('#df-b9fb3838-df04-421c-81ac-1879bf97e0ae button.colab-df-convert');\n",
              "      buttonEl.style.display =\n",
              "        google.colab.kernel.accessAllowed ? 'block' : 'none';\n",
              "\n",
              "      async function convertToInteractive(key) {\n",
              "        const element = document.querySelector('#df-b9fb3838-df04-421c-81ac-1879bf97e0ae');\n",
              "        const dataTable =\n",
              "          await google.colab.kernel.invokeFunction('convertToInteractive',\n",
              "                                                    [key], {});\n",
              "        if (!dataTable) return;\n",
              "\n",
              "        const docLinkHtml = 'Like what you see? Visit the ' +\n",
              "          '<a target=\"_blank\" href=https://colab.research.google.com/notebooks/data_table.ipynb>data table notebook</a>'\n",
              "          + ' to learn more about interactive tables.';\n",
              "        element.innerHTML = '';\n",
              "        dataTable['output_type'] = 'display_data';\n",
              "        await google.colab.output.renderOutput(dataTable, element);\n",
              "        const docLink = document.createElement('div');\n",
              "        docLink.innerHTML = docLinkHtml;\n",
              "        element.appendChild(docLink);\n",
              "      }\n",
              "    </script>\n",
              "  </div>\n",
              "\n",
              "\n",
              "<div id=\"df-c42812da-7383-4caf-a1dd-93bbdf2e7587\">\n",
              "  <button class=\"colab-df-quickchart\" onclick=\"quickchart('df-c42812da-7383-4caf-a1dd-93bbdf2e7587')\"\n",
              "            title=\"Suggest charts\"\n",
              "            style=\"display:none;\">\n",
              "\n",
              "<svg xmlns=\"http://www.w3.org/2000/svg\" height=\"24px\"viewBox=\"0 0 24 24\"\n",
              "     width=\"24px\">\n",
              "    <g>\n",
              "        <path d=\"M19 3H5c-1.1 0-2 .9-2 2v14c0 1.1.9 2 2 2h14c1.1 0 2-.9 2-2V5c0-1.1-.9-2-2-2zM9 17H7v-7h2v7zm4 0h-2V7h2v10zm4 0h-2v-4h2v4z\"/>\n",
              "    </g>\n",
              "</svg>\n",
              "  </button>\n",
              "\n",
              "<style>\n",
              "  .colab-df-quickchart {\n",
              "      --bg-color: #E8F0FE;\n",
              "      --fill-color: #1967D2;\n",
              "      --hover-bg-color: #E2EBFA;\n",
              "      --hover-fill-color: #174EA6;\n",
              "      --disabled-fill-color: #AAA;\n",
              "      --disabled-bg-color: #DDD;\n",
              "  }\n",
              "\n",
              "  [theme=dark] .colab-df-quickchart {\n",
              "      --bg-color: #3B4455;\n",
              "      --fill-color: #D2E3FC;\n",
              "      --hover-bg-color: #434B5C;\n",
              "      --hover-fill-color: #FFFFFF;\n",
              "      --disabled-bg-color: #3B4455;\n",
              "      --disabled-fill-color: #666;\n",
              "  }\n",
              "\n",
              "  .colab-df-quickchart {\n",
              "    background-color: var(--bg-color);\n",
              "    border: none;\n",
              "    border-radius: 50%;\n",
              "    cursor: pointer;\n",
              "    display: none;\n",
              "    fill: var(--fill-color);\n",
              "    height: 32px;\n",
              "    padding: 0;\n",
              "    width: 32px;\n",
              "  }\n",
              "\n",
              "  .colab-df-quickchart:hover {\n",
              "    background-color: var(--hover-bg-color);\n",
              "    box-shadow: 0 1px 2px rgba(60, 64, 67, 0.3), 0 1px 3px 1px rgba(60, 64, 67, 0.15);\n",
              "    fill: var(--button-hover-fill-color);\n",
              "  }\n",
              "\n",
              "  .colab-df-quickchart-complete:disabled,\n",
              "  .colab-df-quickchart-complete:disabled:hover {\n",
              "    background-color: var(--disabled-bg-color);\n",
              "    fill: var(--disabled-fill-color);\n",
              "    box-shadow: none;\n",
              "  }\n",
              "\n",
              "  .colab-df-spinner {\n",
              "    border: 2px solid var(--fill-color);\n",
              "    border-color: transparent;\n",
              "    border-bottom-color: var(--fill-color);\n",
              "    animation:\n",
              "      spin 1s steps(1) infinite;\n",
              "  }\n",
              "\n",
              "  @keyframes spin {\n",
              "    0% {\n",
              "      border-color: transparent;\n",
              "      border-bottom-color: var(--fill-color);\n",
              "      border-left-color: var(--fill-color);\n",
              "    }\n",
              "    20% {\n",
              "      border-color: transparent;\n",
              "      border-left-color: var(--fill-color);\n",
              "      border-top-color: var(--fill-color);\n",
              "    }\n",
              "    30% {\n",
              "      border-color: transparent;\n",
              "      border-left-color: var(--fill-color);\n",
              "      border-top-color: var(--fill-color);\n",
              "      border-right-color: var(--fill-color);\n",
              "    }\n",
              "    40% {\n",
              "      border-color: transparent;\n",
              "      border-right-color: var(--fill-color);\n",
              "      border-top-color: var(--fill-color);\n",
              "    }\n",
              "    60% {\n",
              "      border-color: transparent;\n",
              "      border-right-color: var(--fill-color);\n",
              "    }\n",
              "    80% {\n",
              "      border-color: transparent;\n",
              "      border-right-color: var(--fill-color);\n",
              "      border-bottom-color: var(--fill-color);\n",
              "    }\n",
              "    90% {\n",
              "      border-color: transparent;\n",
              "      border-bottom-color: var(--fill-color);\n",
              "    }\n",
              "  }\n",
              "</style>\n",
              "\n",
              "  <script>\n",
              "    async function quickchart(key) {\n",
              "      const quickchartButtonEl =\n",
              "        document.querySelector('#' + key + ' button');\n",
              "      quickchartButtonEl.disabled = true;  // To prevent multiple clicks.\n",
              "      quickchartButtonEl.classList.add('colab-df-spinner');\n",
              "      try {\n",
              "        const charts = await google.colab.kernel.invokeFunction(\n",
              "            'suggestCharts', [key], {});\n",
              "      } catch (error) {\n",
              "        console.error('Error during call to suggestCharts:', error);\n",
              "      }\n",
              "      quickchartButtonEl.classList.remove('colab-df-spinner');\n",
              "      quickchartButtonEl.classList.add('colab-df-quickchart-complete');\n",
              "    }\n",
              "    (() => {\n",
              "      let quickchartButtonEl =\n",
              "        document.querySelector('#df-c42812da-7383-4caf-a1dd-93bbdf2e7587 button');\n",
              "      quickchartButtonEl.style.display =\n",
              "        google.colab.kernel.accessAllowed ? 'block' : 'none';\n",
              "    })();\n",
              "  </script>\n",
              "</div>\n",
              "    </div>\n",
              "  </div>\n"
            ]
          },
          "metadata": {},
          "execution_count": 21
        }
      ]
    },
    {
      "cell_type": "code",
      "source": [
        "processed_data = pd.concat([feature_matrix_train_enc, data[columns_to_ignore]], axis=1)"
      ],
      "metadata": {
        "id": "wWSGlMWBRuON"
      },
      "execution_count": null,
      "outputs": []
    },
    {
      "cell_type": "markdown",
      "source": [
        "## Train/test split"
      ],
      "metadata": {
        "id": "rv7IzSqBSOp1"
      }
    },
    {
      "cell_type": "code",
      "source": [
        "train_features, test_features, train_labels, test_labels = train_test_split(\n",
        "    processed_data.drop('Price', axis=1), processed_data['Price'],\n",
        "    test_size=.3, random_state=17\n",
        ")"
      ],
      "metadata": {
        "id": "CmEyDKnXSQK0"
      },
      "execution_count": null,
      "outputs": []
    },
    {
      "cell_type": "markdown",
      "source": [
        "## Price scaling"
      ],
      "metadata": {
        "id": "P6brpcQzSMes"
      }
    },
    {
      "cell_type": "code",
      "source": [
        "scaler = StandardScaler()\n",
        "train_labels = scaler.fit_transform(train_labels.values.reshape(-1, 1))\n",
        "test_labels = scaler.transform(test_labels.values.reshape(-1, 1))"
      ],
      "metadata": {
        "id": "vC6d1sooSOXr"
      },
      "execution_count": null,
      "outputs": []
    },
    {
      "cell_type": "markdown",
      "source": [
        "## Feature selection"
      ],
      "metadata": {
        "id": "fTLPnmD-TKYc"
      }
    },
    {
      "cell_type": "code",
      "source": [
        "feature_selector = lgb.LGBMRegressor(random_state=17, verbosity=-1)\n",
        "feature_selector.fit(train_features, train_labels)"
      ],
      "metadata": {
        "colab": {
          "base_uri": "https://localhost:8080/",
          "height": 110
        },
        "id": "hMG-2v6dTMgN",
        "outputId": "0f4eefdb-723f-4632-c5ce-d7c50c32dc81"
      },
      "execution_count": null,
      "outputs": [
        {
          "output_type": "stream",
          "name": "stderr",
          "text": [
            "/usr/local/lib/python3.10/dist-packages/lightgbm/basic.py:300: UserWarning: Converting column-vector to 1d array\n",
            "  _log_warning('Converting column-vector to 1d array')\n"
          ]
        },
        {
          "output_type": "execute_result",
          "data": {
            "text/plain": [
              "LGBMRegressor(random_state=17, verbosity=-1)"
            ],
            "text/html": [
              "<style>#sk-container-id-6 {color: black;background-color: white;}#sk-container-id-6 pre{padding: 0;}#sk-container-id-6 div.sk-toggleable {background-color: white;}#sk-container-id-6 label.sk-toggleable__label {cursor: pointer;display: block;width: 100%;margin-bottom: 0;padding: 0.3em;box-sizing: border-box;text-align: center;}#sk-container-id-6 label.sk-toggleable__label-arrow:before {content: \"▸\";float: left;margin-right: 0.25em;color: #696969;}#sk-container-id-6 label.sk-toggleable__label-arrow:hover:before {color: black;}#sk-container-id-6 div.sk-estimator:hover label.sk-toggleable__label-arrow:before {color: black;}#sk-container-id-6 div.sk-toggleable__content {max-height: 0;max-width: 0;overflow: hidden;text-align: left;background-color: #f0f8ff;}#sk-container-id-6 div.sk-toggleable__content pre {margin: 0.2em;color: black;border-radius: 0.25em;background-color: #f0f8ff;}#sk-container-id-6 input.sk-toggleable__control:checked~div.sk-toggleable__content {max-height: 200px;max-width: 100%;overflow: auto;}#sk-container-id-6 input.sk-toggleable__control:checked~label.sk-toggleable__label-arrow:before {content: \"▾\";}#sk-container-id-6 div.sk-estimator input.sk-toggleable__control:checked~label.sk-toggleable__label {background-color: #d4ebff;}#sk-container-id-6 div.sk-label input.sk-toggleable__control:checked~label.sk-toggleable__label {background-color: #d4ebff;}#sk-container-id-6 input.sk-hidden--visually {border: 0;clip: rect(1px 1px 1px 1px);clip: rect(1px, 1px, 1px, 1px);height: 1px;margin: -1px;overflow: hidden;padding: 0;position: absolute;width: 1px;}#sk-container-id-6 div.sk-estimator {font-family: monospace;background-color: #f0f8ff;border: 1px dotted black;border-radius: 0.25em;box-sizing: border-box;margin-bottom: 0.5em;}#sk-container-id-6 div.sk-estimator:hover {background-color: #d4ebff;}#sk-container-id-6 div.sk-parallel-item::after {content: \"\";width: 100%;border-bottom: 1px solid gray;flex-grow: 1;}#sk-container-id-6 div.sk-label:hover label.sk-toggleable__label {background-color: #d4ebff;}#sk-container-id-6 div.sk-serial::before {content: \"\";position: absolute;border-left: 1px solid gray;box-sizing: border-box;top: 0;bottom: 0;left: 50%;z-index: 0;}#sk-container-id-6 div.sk-serial {display: flex;flex-direction: column;align-items: center;background-color: white;padding-right: 0.2em;padding-left: 0.2em;position: relative;}#sk-container-id-6 div.sk-item {position: relative;z-index: 1;}#sk-container-id-6 div.sk-parallel {display: flex;align-items: stretch;justify-content: center;background-color: white;position: relative;}#sk-container-id-6 div.sk-item::before, #sk-container-id-6 div.sk-parallel-item::before {content: \"\";position: absolute;border-left: 1px solid gray;box-sizing: border-box;top: 0;bottom: 0;left: 50%;z-index: -1;}#sk-container-id-6 div.sk-parallel-item {display: flex;flex-direction: column;z-index: 1;position: relative;background-color: white;}#sk-container-id-6 div.sk-parallel-item:first-child::after {align-self: flex-end;width: 50%;}#sk-container-id-6 div.sk-parallel-item:last-child::after {align-self: flex-start;width: 50%;}#sk-container-id-6 div.sk-parallel-item:only-child::after {width: 0;}#sk-container-id-6 div.sk-dashed-wrapped {border: 1px dashed gray;margin: 0 0.4em 0.5em 0.4em;box-sizing: border-box;padding-bottom: 0.4em;background-color: white;}#sk-container-id-6 div.sk-label label {font-family: monospace;font-weight: bold;display: inline-block;line-height: 1.2em;}#sk-container-id-6 div.sk-label-container {text-align: center;}#sk-container-id-6 div.sk-container {/* jupyter's `normalize.less` sets `[hidden] { display: none; }` but bootstrap.min.css set `[hidden] { display: none !important; }` so we also need the `!important` here to be able to override the default hidden behavior on the sphinx rendered scikit-learn.org. See: https://github.com/scikit-learn/scikit-learn/issues/21755 */display: inline-block !important;position: relative;}#sk-container-id-6 div.sk-text-repr-fallback {display: none;}</style><div id=\"sk-container-id-6\" class=\"sk-top-container\"><div class=\"sk-text-repr-fallback\"><pre>LGBMRegressor(random_state=17, verbosity=-1)</pre><b>In a Jupyter environment, please rerun this cell to show the HTML representation or trust the notebook. <br />On GitHub, the HTML representation is unable to render, please try loading this page with nbviewer.org.</b></div><div class=\"sk-container\" hidden><div class=\"sk-item\"><div class=\"sk-estimator sk-toggleable\"><input class=\"sk-toggleable__control sk-hidden--visually\" id=\"sk-estimator-id-6\" type=\"checkbox\" checked><label for=\"sk-estimator-id-6\" class=\"sk-toggleable__label sk-toggleable__label-arrow\">LGBMRegressor</label><div class=\"sk-toggleable__content\"><pre>LGBMRegressor(random_state=17, verbosity=-1)</pre></div></div></div></div></div>"
            ]
          },
          "metadata": {},
          "execution_count": 46
        }
      ]
    },
    {
      "cell_type": "code",
      "source": [
        "importances_df = pd.DataFrame({'name': train_features.columns, 'coef': feature_selector.feature_importances_})"
      ],
      "metadata": {
        "id": "BOYCekykTiV8"
      },
      "execution_count": null,
      "outputs": []
    },
    {
      "cell_type": "code",
      "source": [
        "print(importances_df.sort_values(by='coef', ascending=False).head(50).to_markdown())"
      ],
      "metadata": {
        "colab": {
          "base_uri": "https://localhost:8080/"
        },
        "id": "C7O0jF6l0cQS",
        "outputId": "48cab3da-53cd-46fb-8ed7-d8629a651ffa"
      },
      "execution_count": null,
      "outputs": [
        {
          "output_type": "stream",
          "name": "stdout",
          "text": [
            "|      | name                                   |   coef |\n",
            "|-----:|:---------------------------------------|-------:|\n",
            "|  372 | District_Beşiktaş                      |     74 |\n",
            "|  387 | District_Sarıyer                       |     60 |\n",
            "|  381 | District_Kartal                        |     59 |\n",
            "|   15 | m² (Gross) + Number of floors          |     58 |\n",
            "|  365 | District_Bakırköy                      |     57 |\n",
            "|  371 | District_Beyoğlu                       |     55 |\n",
            "|  398 | District_Şişli                         |     53 |\n",
            "|   39 | Number of rooms / m² (Gross)           |     47 |\n",
            "|  328 | Throat                                 |     36 |\n",
            "|  377 | District_Fatih                         |     35 |\n",
            "|  396 | District_Üsküdar                       |     33 |\n",
            "| 1008 | Building Age_0                         |     33 |\n",
            "|  370 | District_Beylikdüzü                    |     31 |\n",
            "|  361 | District_Arnavutköy                    |     30 |\n",
            "|  380 | District_Kadıköy                       |     30 |\n",
            "|  369 | District_Beykoz                        |     30 |\n",
            "|  375 | District_Esenyurt                      |     29 |\n",
            "| 1044 | Available for Loan_No                  |     29 |\n",
            "|  224 | Air conditioning                       |     28 |\n",
            "|   73 | m² (Net) * Number of bathrooms         |     28 |\n",
            "| 1029 | Heating_Natural Gas (Combi)            |     27 |\n",
            "|  388 | District_Silivri                       |     27 |\n",
            "|  117 | DAY(Pick Up Data Time) = 8             |     26 |\n",
            "|  392 | District_Zeytinburnu                   |     26 |\n",
            "|  101 | m² (Gross) - m² (Net)                  |     25 |\n",
            "| 1016 | Building Age_31  and more than         |     23 |\n",
            "|   40 | Number of rooms / m² (Net)             |     23 |\n",
            "|  467 | Neighborhood_Bahçelievler Mh.          |     22 |\n",
            "|   45 | m² (Gross) / m² (Net)                  |     22 |\n",
            "|   69 | m² (Gross) * Number of bathrooms       |     22 |\n",
            "|  329 | Sea                                    |     21 |\n",
            "|  338 | Garden Floor                           |     20 |\n",
            "|  363 | District_Avcılar                       |     20 |\n",
            "|   74 | m² (Net) * Number of floors            |     19 |\n",
            "|   70 | m² (Gross) * Number of floors          |     19 |\n",
            "|   66 | Number of bathrooms * Number of floors |     18 |\n",
            "|  249 | Elevator.1                             |     18 |\n",
            "|   22 | Floor location / Number of floors      |     17 |\n",
            "|   33 | Number of floors / Number of rooms     |     17 |\n",
            "|   27 | Number of bathrooms / Number of floors |     17 |\n",
            "| 1011 | Building Age_16-20 between             |     17 |\n",
            "| 1013 | Building Age_21-25 between             |     17 |\n",
            "|   30 | Number of bathrooms / m² (Net)         |     16 |\n",
            "|  490 | Neighborhood_Bebek Mah.                |     16 |\n",
            "|  389 | District_Sultanbeyli                   |     16 |\n",
            "|  447 | Neighborhood_Ataköy 2-5-6. Kısım Mh.   |     16 |\n",
            "|  366 | District_Bayrampaşa                    |     16 |\n",
            "|  251 | Security                               |     16 |\n",
            "|  302 | District Market                        |     16 |\n",
            "|  352 | Basement                               |     15 |\n"
          ]
        }
      ]
    },
    {
      "cell_type": "code",
      "source": [
        "useless_features = importances_df.loc[importances_df['coef'] == 0, 'name']"
      ],
      "metadata": {
        "id": "JeFFg-i0UQJb"
      },
      "execution_count": null,
      "outputs": []
    },
    {
      "cell_type": "code",
      "source": [
        "train_features = train_features.drop(useless_features, axis=1)\n",
        "test_features = test_features.drop(useless_features, axis=1)"
      ],
      "metadata": {
        "id": "MroZyR3FUXxE"
      },
      "execution_count": null,
      "outputs": []
    },
    {
      "cell_type": "markdown",
      "source": [
        "# Data modeling"
      ],
      "metadata": {
        "id": "E8fbbuCkUknS"
      }
    },
    {
      "cell_type": "markdown",
      "source": [
        "## Initial model"
      ],
      "metadata": {
        "id": "wrhX7DcCSrF_"
      }
    },
    {
      "cell_type": "markdown",
      "source": [
        "Model training"
      ],
      "metadata": {
        "id": "B0x2nIWeSttw"
      }
    },
    {
      "cell_type": "code",
      "source": [
        "model = lgb.LGBMRegressor(random_state=17, verbosity=-1)\n",
        "model.fit(train_features, train_labels)"
      ],
      "metadata": {
        "colab": {
          "base_uri": "https://localhost:8080/",
          "height": 110
        },
        "id": "Dr8U1fsMUmQT",
        "outputId": "d0d68e3a-515c-403f-e9e4-8c9df7d48b76"
      },
      "execution_count": null,
      "outputs": [
        {
          "output_type": "stream",
          "name": "stderr",
          "text": [
            "/usr/local/lib/python3.10/dist-packages/lightgbm/basic.py:300: UserWarning: Converting column-vector to 1d array\n",
            "  _log_warning('Converting column-vector to 1d array')\n"
          ]
        },
        {
          "output_type": "execute_result",
          "data": {
            "text/plain": [
              "LGBMRegressor(random_state=17, verbosity=-1)"
            ],
            "text/html": [
              "<style>#sk-container-id-7 {color: black;background-color: white;}#sk-container-id-7 pre{padding: 0;}#sk-container-id-7 div.sk-toggleable {background-color: white;}#sk-container-id-7 label.sk-toggleable__label {cursor: pointer;display: block;width: 100%;margin-bottom: 0;padding: 0.3em;box-sizing: border-box;text-align: center;}#sk-container-id-7 label.sk-toggleable__label-arrow:before {content: \"▸\";float: left;margin-right: 0.25em;color: #696969;}#sk-container-id-7 label.sk-toggleable__label-arrow:hover:before {color: black;}#sk-container-id-7 div.sk-estimator:hover label.sk-toggleable__label-arrow:before {color: black;}#sk-container-id-7 div.sk-toggleable__content {max-height: 0;max-width: 0;overflow: hidden;text-align: left;background-color: #f0f8ff;}#sk-container-id-7 div.sk-toggleable__content pre {margin: 0.2em;color: black;border-radius: 0.25em;background-color: #f0f8ff;}#sk-container-id-7 input.sk-toggleable__control:checked~div.sk-toggleable__content {max-height: 200px;max-width: 100%;overflow: auto;}#sk-container-id-7 input.sk-toggleable__control:checked~label.sk-toggleable__label-arrow:before {content: \"▾\";}#sk-container-id-7 div.sk-estimator input.sk-toggleable__control:checked~label.sk-toggleable__label {background-color: #d4ebff;}#sk-container-id-7 div.sk-label input.sk-toggleable__control:checked~label.sk-toggleable__label {background-color: #d4ebff;}#sk-container-id-7 input.sk-hidden--visually {border: 0;clip: rect(1px 1px 1px 1px);clip: rect(1px, 1px, 1px, 1px);height: 1px;margin: -1px;overflow: hidden;padding: 0;position: absolute;width: 1px;}#sk-container-id-7 div.sk-estimator {font-family: monospace;background-color: #f0f8ff;border: 1px dotted black;border-radius: 0.25em;box-sizing: border-box;margin-bottom: 0.5em;}#sk-container-id-7 div.sk-estimator:hover {background-color: #d4ebff;}#sk-container-id-7 div.sk-parallel-item::after {content: \"\";width: 100%;border-bottom: 1px solid gray;flex-grow: 1;}#sk-container-id-7 div.sk-label:hover label.sk-toggleable__label {background-color: #d4ebff;}#sk-container-id-7 div.sk-serial::before {content: \"\";position: absolute;border-left: 1px solid gray;box-sizing: border-box;top: 0;bottom: 0;left: 50%;z-index: 0;}#sk-container-id-7 div.sk-serial {display: flex;flex-direction: column;align-items: center;background-color: white;padding-right: 0.2em;padding-left: 0.2em;position: relative;}#sk-container-id-7 div.sk-item {position: relative;z-index: 1;}#sk-container-id-7 div.sk-parallel {display: flex;align-items: stretch;justify-content: center;background-color: white;position: relative;}#sk-container-id-7 div.sk-item::before, #sk-container-id-7 div.sk-parallel-item::before {content: \"\";position: absolute;border-left: 1px solid gray;box-sizing: border-box;top: 0;bottom: 0;left: 50%;z-index: -1;}#sk-container-id-7 div.sk-parallel-item {display: flex;flex-direction: column;z-index: 1;position: relative;background-color: white;}#sk-container-id-7 div.sk-parallel-item:first-child::after {align-self: flex-end;width: 50%;}#sk-container-id-7 div.sk-parallel-item:last-child::after {align-self: flex-start;width: 50%;}#sk-container-id-7 div.sk-parallel-item:only-child::after {width: 0;}#sk-container-id-7 div.sk-dashed-wrapped {border: 1px dashed gray;margin: 0 0.4em 0.5em 0.4em;box-sizing: border-box;padding-bottom: 0.4em;background-color: white;}#sk-container-id-7 div.sk-label label {font-family: monospace;font-weight: bold;display: inline-block;line-height: 1.2em;}#sk-container-id-7 div.sk-label-container {text-align: center;}#sk-container-id-7 div.sk-container {/* jupyter's `normalize.less` sets `[hidden] { display: none; }` but bootstrap.min.css set `[hidden] { display: none !important; }` so we also need the `!important` here to be able to override the default hidden behavior on the sphinx rendered scikit-learn.org. See: https://github.com/scikit-learn/scikit-learn/issues/21755 */display: inline-block !important;position: relative;}#sk-container-id-7 div.sk-text-repr-fallback {display: none;}</style><div id=\"sk-container-id-7\" class=\"sk-top-container\"><div class=\"sk-text-repr-fallback\"><pre>LGBMRegressor(random_state=17, verbosity=-1)</pre><b>In a Jupyter environment, please rerun this cell to show the HTML representation or trust the notebook. <br />On GitHub, the HTML representation is unable to render, please try loading this page with nbviewer.org.</b></div><div class=\"sk-container\" hidden><div class=\"sk-item\"><div class=\"sk-estimator sk-toggleable\"><input class=\"sk-toggleable__control sk-hidden--visually\" id=\"sk-estimator-id-7\" type=\"checkbox\" checked><label for=\"sk-estimator-id-7\" class=\"sk-toggleable__label sk-toggleable__label-arrow\">LGBMRegressor</label><div class=\"sk-toggleable__content\"><pre>LGBMRegressor(random_state=17, verbosity=-1)</pre></div></div></div></div></div>"
            ]
          },
          "metadata": {},
          "execution_count": 51
        }
      ]
    },
    {
      "cell_type": "markdown",
      "source": [
        "Model evaluation"
      ],
      "metadata": {
        "id": "f0kMi6fwSvDM"
      }
    },
    {
      "cell_type": "code",
      "source": [
        "mean_squared_error(test_labels, model.predict(test_features))"
      ],
      "metadata": {
        "colab": {
          "base_uri": "https://localhost:8080/"
        },
        "id": "PGVFCv7RUrGm",
        "outputId": "d0eebbb1-0488-4d52-e5a1-32a28baa2e81"
      },
      "execution_count": null,
      "outputs": [
        {
          "output_type": "execute_result",
          "data": {
            "text/plain": [
              "0.03572483119121389"
            ]
          },
          "metadata": {},
          "execution_count": 30
        }
      ]
    },
    {
      "cell_type": "markdown",
      "source": [
        "## Hyperparameters tuning"
      ],
      "metadata": {
        "id": "vIRC79tESwfY"
      }
    },
    {
      "cell_type": "code",
      "source": [
        "def objective(trial):\n",
        "    (split_train_features, split_val_features,\n",
        "     split_train_labels, split_val_labels) = train_test_split(\n",
        "        train_features, train_labels, test_size=0.25\n",
        "    )\n",
        "\n",
        "    param = {\n",
        "        \"verbosity\": -1,\n",
        "        \"lambda_l1\": trial.suggest_float(\"lambda_l1\", 1e-8, 10.0, log=True),\n",
        "        \"lambda_l2\": trial.suggest_float(\"lambda_l2\", 1e-8, 10.0, log=True),\n",
        "        \"num_leaves\": trial.suggest_int(\"num_leaves\", 2, 256),\n",
        "        \"feature_fraction\": trial.suggest_float(\"feature_fraction\", 0.4, 1.0),\n",
        "        \"bagging_fraction\": trial.suggest_float(\"bagging_fraction\", 0.4, 1.0),\n",
        "        \"bagging_freq\": trial.suggest_int(\"bagging_freq\", 1, 7),\n",
        "        \"min_child_samples\": trial.suggest_int(\"min_child_samples\", 5, 100),\n",
        "    }\n",
        "\n",
        "    model = lgb.LGBMRegressor(\n",
        "        random_state=17, **param\n",
        "    )\n",
        "    model.fit(\n",
        "        split_train_features, split_train_labels,\n",
        "        eval_set=[(split_val_features, split_val_labels)],\n",
        "    )\n",
        "    score = model.best_score_['valid_0']['l2']\n",
        "    return score"
      ],
      "metadata": {
        "id": "z7Z5rWyj_9zr"
      },
      "execution_count": null,
      "outputs": []
    },
    {
      "cell_type": "code",
      "source": [
        "study = optuna.create_study(direction=\"minimize\")\n",
        "study.optimize(objective, n_trials=100)"
      ],
      "metadata": {
        "id": "QH13X3xUA3yM"
      },
      "execution_count": null,
      "outputs": []
    },
    {
      "cell_type": "code",
      "source": [
        "print(\"Number of finished trials: {}\".format(len(study.trials)))\n",
        "\n",
        "print(\"Best trial:\")\n",
        "trial = study.best_trial\n",
        "\n",
        "print(\"  Value: {}\".format(trial.value))\n",
        "\n",
        "print(\"  Params: \")\n",
        "for key, value in trial.params.items():\n",
        "    print(\"    {}: {}\".format(key, value))"
      ],
      "metadata": {
        "colab": {
          "base_uri": "https://localhost:8080/"
        },
        "id": "IaUicKFxCbwW",
        "outputId": "2714595c-0571-4ef0-ad6b-ffc51f310e24"
      },
      "execution_count": null,
      "outputs": [
        {
          "output_type": "stream",
          "name": "stdout",
          "text": [
            "Number of finished trials: 100\n",
            "Best trial:\n",
            "  Value: 0.03663771272039226\n",
            "  Params: \n",
            "    lambda_l1: 0.0008473727994710632\n",
            "    lambda_l2: 1.3528725287500655e-07\n",
            "    num_leaves: 104\n",
            "    feature_fraction: 0.9487317946398935\n",
            "    bagging_fraction: 0.7537798500073645\n",
            "    bagging_freq: 7\n",
            "    min_child_samples: 17\n"
          ]
        }
      ]
    },
    {
      "cell_type": "markdown",
      "source": [
        "Training tuned model"
      ],
      "metadata": {
        "id": "or4NS49onBZB"
      }
    },
    {
      "cell_type": "code",
      "source": [
        "tuned_model = lgb.LGBMRegressor(random_state=17, verbosity=-1, **trial.params)\n",
        "tuned_model.fit(train_features, train_labels)"
      ],
      "metadata": {
        "colab": {
          "base_uri": "https://localhost:8080/",
          "height": 180
        },
        "id": "AdSvhr0pE88D",
        "outputId": "682755a6-295e-450e-b07d-280a3cf06d12"
      },
      "execution_count": null,
      "outputs": [
        {
          "output_type": "stream",
          "name": "stderr",
          "text": [
            "/usr/local/lib/python3.10/dist-packages/lightgbm/basic.py:300: UserWarning: Converting column-vector to 1d array\n",
            "  _log_warning('Converting column-vector to 1d array')\n"
          ]
        },
        {
          "output_type": "execute_result",
          "data": {
            "text/plain": [
              "LGBMRegressor(bagging_fraction=0.7537798500073645, bagging_freq=7,\n",
              "              feature_fraction=0.9487317946398935,\n",
              "              lambda_l1=0.0008473727994710632, lambda_l2=1.3528725287500655e-07,\n",
              "              min_child_samples=17, num_leaves=104, random_state=17,\n",
              "              verbosity=-1)"
            ],
            "text/html": [
              "<style>#sk-container-id-4 {color: black;background-color: white;}#sk-container-id-4 pre{padding: 0;}#sk-container-id-4 div.sk-toggleable {background-color: white;}#sk-container-id-4 label.sk-toggleable__label {cursor: pointer;display: block;width: 100%;margin-bottom: 0;padding: 0.3em;box-sizing: border-box;text-align: center;}#sk-container-id-4 label.sk-toggleable__label-arrow:before {content: \"▸\";float: left;margin-right: 0.25em;color: #696969;}#sk-container-id-4 label.sk-toggleable__label-arrow:hover:before {color: black;}#sk-container-id-4 div.sk-estimator:hover label.sk-toggleable__label-arrow:before {color: black;}#sk-container-id-4 div.sk-toggleable__content {max-height: 0;max-width: 0;overflow: hidden;text-align: left;background-color: #f0f8ff;}#sk-container-id-4 div.sk-toggleable__content pre {margin: 0.2em;color: black;border-radius: 0.25em;background-color: #f0f8ff;}#sk-container-id-4 input.sk-toggleable__control:checked~div.sk-toggleable__content {max-height: 200px;max-width: 100%;overflow: auto;}#sk-container-id-4 input.sk-toggleable__control:checked~label.sk-toggleable__label-arrow:before {content: \"▾\";}#sk-container-id-4 div.sk-estimator input.sk-toggleable__control:checked~label.sk-toggleable__label {background-color: #d4ebff;}#sk-container-id-4 div.sk-label input.sk-toggleable__control:checked~label.sk-toggleable__label {background-color: #d4ebff;}#sk-container-id-4 input.sk-hidden--visually {border: 0;clip: rect(1px 1px 1px 1px);clip: rect(1px, 1px, 1px, 1px);height: 1px;margin: -1px;overflow: hidden;padding: 0;position: absolute;width: 1px;}#sk-container-id-4 div.sk-estimator {font-family: monospace;background-color: #f0f8ff;border: 1px dotted black;border-radius: 0.25em;box-sizing: border-box;margin-bottom: 0.5em;}#sk-container-id-4 div.sk-estimator:hover {background-color: #d4ebff;}#sk-container-id-4 div.sk-parallel-item::after {content: \"\";width: 100%;border-bottom: 1px solid gray;flex-grow: 1;}#sk-container-id-4 div.sk-label:hover label.sk-toggleable__label {background-color: #d4ebff;}#sk-container-id-4 div.sk-serial::before {content: \"\";position: absolute;border-left: 1px solid gray;box-sizing: border-box;top: 0;bottom: 0;left: 50%;z-index: 0;}#sk-container-id-4 div.sk-serial {display: flex;flex-direction: column;align-items: center;background-color: white;padding-right: 0.2em;padding-left: 0.2em;position: relative;}#sk-container-id-4 div.sk-item {position: relative;z-index: 1;}#sk-container-id-4 div.sk-parallel {display: flex;align-items: stretch;justify-content: center;background-color: white;position: relative;}#sk-container-id-4 div.sk-item::before, #sk-container-id-4 div.sk-parallel-item::before {content: \"\";position: absolute;border-left: 1px solid gray;box-sizing: border-box;top: 0;bottom: 0;left: 50%;z-index: -1;}#sk-container-id-4 div.sk-parallel-item {display: flex;flex-direction: column;z-index: 1;position: relative;background-color: white;}#sk-container-id-4 div.sk-parallel-item:first-child::after {align-self: flex-end;width: 50%;}#sk-container-id-4 div.sk-parallel-item:last-child::after {align-self: flex-start;width: 50%;}#sk-container-id-4 div.sk-parallel-item:only-child::after {width: 0;}#sk-container-id-4 div.sk-dashed-wrapped {border: 1px dashed gray;margin: 0 0.4em 0.5em 0.4em;box-sizing: border-box;padding-bottom: 0.4em;background-color: white;}#sk-container-id-4 div.sk-label label {font-family: monospace;font-weight: bold;display: inline-block;line-height: 1.2em;}#sk-container-id-4 div.sk-label-container {text-align: center;}#sk-container-id-4 div.sk-container {/* jupyter's `normalize.less` sets `[hidden] { display: none; }` but bootstrap.min.css set `[hidden] { display: none !important; }` so we also need the `!important` here to be able to override the default hidden behavior on the sphinx rendered scikit-learn.org. See: https://github.com/scikit-learn/scikit-learn/issues/21755 */display: inline-block !important;position: relative;}#sk-container-id-4 div.sk-text-repr-fallback {display: none;}</style><div id=\"sk-container-id-4\" class=\"sk-top-container\"><div class=\"sk-text-repr-fallback\"><pre>LGBMRegressor(bagging_fraction=0.7537798500073645, bagging_freq=7,\n",
              "              feature_fraction=0.9487317946398935,\n",
              "              lambda_l1=0.0008473727994710632, lambda_l2=1.3528725287500655e-07,\n",
              "              min_child_samples=17, num_leaves=104, random_state=17,\n",
              "              verbosity=-1)</pre><b>In a Jupyter environment, please rerun this cell to show the HTML representation or trust the notebook. <br />On GitHub, the HTML representation is unable to render, please try loading this page with nbviewer.org.</b></div><div class=\"sk-container\" hidden><div class=\"sk-item\"><div class=\"sk-estimator sk-toggleable\"><input class=\"sk-toggleable__control sk-hidden--visually\" id=\"sk-estimator-id-4\" type=\"checkbox\" checked><label for=\"sk-estimator-id-4\" class=\"sk-toggleable__label sk-toggleable__label-arrow\">LGBMRegressor</label><div class=\"sk-toggleable__content\"><pre>LGBMRegressor(bagging_fraction=0.7537798500073645, bagging_freq=7,\n",
              "              feature_fraction=0.9487317946398935,\n",
              "              lambda_l1=0.0008473727994710632, lambda_l2=1.3528725287500655e-07,\n",
              "              min_child_samples=17, num_leaves=104, random_state=17,\n",
              "              verbosity=-1)</pre></div></div></div></div></div>"
            ]
          },
          "metadata": {},
          "execution_count": 39
        }
      ]
    },
    {
      "cell_type": "markdown",
      "source": [
        "Tuned model evaluation"
      ],
      "metadata": {
        "id": "S4RxJOOQnD4G"
      }
    },
    {
      "cell_type": "code",
      "source": [
        "mean_squared_error(test_labels, tuned_model.predict(test_features))"
      ],
      "metadata": {
        "colab": {
          "base_uri": "https://localhost:8080/"
        },
        "id": "DNcxRxe8FCcz",
        "outputId": "9a13cb4b-0d8c-4ea0-ce0c-41ab5681162e"
      },
      "execution_count": null,
      "outputs": [
        {
          "output_type": "execute_result",
          "data": {
            "text/plain": [
              "0.03327672736013775"
            ]
          },
          "metadata": {},
          "execution_count": 40
        }
      ]
    },
    {
      "cell_type": "markdown",
      "source": [
        "Lab 3: MAPE"
      ],
      "metadata": {
        "id": "KAsoGeeLnAgy"
      }
    },
    {
      "cell_type": "code",
      "source": [
        "inversed_labels = np.exp(scaler.inverse_transform(test_labels))\n",
        "inversed_predictions = np.exp(\n",
        "    scaler.inverse_transform(tuned_model.predict(test_features).reshape(-1, 1))\n",
        ")"
      ],
      "metadata": {
        "id": "45haEn4pnQR0"
      },
      "execution_count": null,
      "outputs": []
    },
    {
      "cell_type": "code",
      "source": [
        "mean_squared_error(inversed_labels, inversed_predictions)"
      ],
      "metadata": {
        "colab": {
          "base_uri": "https://localhost:8080/"
        },
        "id": "5bPSx4vtnKOq",
        "outputId": "73c061c4-4b3d-4bd2-8341-fe09d6c65e4a"
      },
      "execution_count": null,
      "outputs": [
        {
          "output_type": "execute_result",
          "data": {
            "text/plain": [
              "360702954169.4948"
            ]
          },
          "metadata": {},
          "execution_count": 81
        }
      ]
    }
  ]
}