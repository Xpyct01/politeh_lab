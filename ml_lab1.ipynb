{
  "nbformat": 4,
  "nbformat_minor": 0,
  "metadata": {
    "colab": {
      "provenance": []
    },
    "kernelspec": {
      "name": "python3",
      "display_name": "Python 3"
    },
    "language_info": {
      "name": "python"
    }
  },
  "cells": [
    {
      "cell_type": "markdown",
      "source": [
        "# Imports"
      ],
      "metadata": {
        "id": "9ahbQiZMKW7g"
      }
    },
    {
      "cell_type": "code",
      "source": [
        "import numpy as np\n",
        "import pandas as pd\n",
        "import seaborn as sns\n",
        "import datetime\n",
        "from sklearn.preprocessing import OneHotEncoder, StandardScaler\n",
        "from sklearn.model_selection import train_test_split\n",
        "from sklearn.ensemble import IsolationForest\n",
        "from sklearn.metrics import mean_squared_error\n",
        "import statsmodels.api as sm\n",
        "import xgboost as xgb\n",
        "from tqdm import tqdm"
      ],
      "metadata": {
        "id": "4PK17gJmKWsI"
      },
      "execution_count": null,
      "outputs": []
    },
    {
      "cell_type": "markdown",
      "source": [
        "# Data loading"
      ],
      "metadata": {
        "id": "S47WGxAVKYY_"
      }
    },
    {
      "cell_type": "code",
      "execution_count": null,
      "metadata": {
        "colab": {
          "base_uri": "https://localhost:8080/"
        },
        "id": "lKN5n_IDJ3m1",
        "outputId": "dd2779aa-00a0-4ee4-99be-ad09ceeed20e"
      },
      "outputs": [
        {
          "output_type": "stream",
          "name": "stdout",
          "text": [
            "Downloading...\n",
            "From: https://drive.google.com/uc?id=1I4UJIytuZtFO_0o-YKz7kqwAro97KLM_\n",
            "To: /content/estate_data.zip\n",
            "\r  0% 0.00/1.74M [00:00<?, ?B/s]\r100% 1.74M/1.74M [00:00<00:00, 104MB/s]\n"
          ]
        }
      ],
      "source": [
        "! gdown 1I4UJIytuZtFO_0o-YKz7kqwAro97KLM_"
      ]
    },
    {
      "cell_type": "code",
      "source": [
        "! unzip estate_data.zip"
      ],
      "metadata": {
        "colab": {
          "base_uri": "https://localhost:8080/"
        },
        "id": "aUHrlE5WKWXw",
        "outputId": "7fc28dfe-c784-4fe4-f7d1-4a9b479371d0"
      },
      "execution_count": null,
      "outputs": [
        {
          "output_type": "stream",
          "name": "stdout",
          "text": [
            "Archive:  estate_data.zip\n",
            "  inflating: Home Sale Data.csv      \n"
          ]
        }
      ]
    },
    {
      "cell_type": "markdown",
      "source": [
        "# Data preprocessing"
      ],
      "metadata": {
        "id": "HzUjYyR-Kc0I"
      }
    },
    {
      "cell_type": "code",
      "source": [
        "data = pd.read_csv('Home Sale Data.csv', sep=';')"
      ],
      "metadata": {
        "id": "OHoLQUKpKfI-"
      },
      "execution_count": null,
      "outputs": []
    },
    {
      "cell_type": "code",
      "source": [
        "data.head()"
      ],
      "metadata": {
        "colab": {
          "base_uri": "https://localhost:8080/",
          "height": 357
        },
        "id": "oKu8_pOb1sUR",
        "outputId": "eba42bf7-8fe6-402b-992f-ec71b98bece7"
      },
      "execution_count": null,
      "outputs": [
        {
          "output_type": "execute_result",
          "data": {
            "text/plain": [
              "       District            Neighborhood        Price Adrtisement Date  \\\n",
              "0         Tuzla             Aydınlı Mh.   165.000 TL       04.01.2020   \n",
              "1         Fatih         Katip Kasım Mh.   207.000 TL       06.01.2020   \n",
              "2      Çekmeköy           Çatalmeşe Mh.   153.000 TL       31.12.2019   \n",
              "3      Çekmeköy  Mehmet Akif Ersoy Mah.   205.000 TL       29.12.2019   \n",
              "4  Küçükçekmece      Halkalı Merkez Mh.   150.000 TL       01.01.2020   \n",
              "\n",
              "   m² (Gross)  m² (Net) Number of rooms       Building Age Floor location  \\\n",
              "0          50      40.0             1+1       5-10 between              5   \n",
              "1          42      42.0             1+1  31  and more than   Ground floor   \n",
              "2          55      45.0             1+1                  1          Kot 1   \n",
              "3          62      46.0             1+1                  0  High entrance   \n",
              "4          70      55.0             1+1       5-10 between   Garden Floor   \n",
              "\n",
              "  Number of floors  ... Top floor Garage / Shop Top Entrance floor  \\\n",
              "0               13  ...         0                 0              0   \n",
              "1                3  ...         0                 0              0   \n",
              "2                7  ...         0                 0              0   \n",
              "3                5  ...         0                 0              0   \n",
              "4                4  ...         0                 0              0   \n",
              "\n",
              "  Floor Duplex Private Entry Rerse Duplex Triplex Ground floor  Roof Duplex  \\\n",
              "0            0             0            0       0            0            0   \n",
              "1            0             0            0       0            0            0   \n",
              "2            0             0            0       0            0            0   \n",
              "3            0             0            0       0            0            0   \n",
              "4            0             0            0       0            0            0   \n",
              "\n",
              "   Pick Up Data Time  \n",
              "0         01.08.2020  \n",
              "1         01.10.2020  \n",
              "2         01.10.2020  \n",
              "3         01.10.2020  \n",
              "4         01.07.2020  \n",
              "\n",
              "[5 rows x 179 columns]"
            ],
            "text/html": [
              "\n",
              "  <div id=\"df-18aed441-cb3a-434a-8ec3-c1f5300375c2\" class=\"colab-df-container\">\n",
              "    <div>\n",
              "<style scoped>\n",
              "    .dataframe tbody tr th:only-of-type {\n",
              "        vertical-align: middle;\n",
              "    }\n",
              "\n",
              "    .dataframe tbody tr th {\n",
              "        vertical-align: top;\n",
              "    }\n",
              "\n",
              "    .dataframe thead th {\n",
              "        text-align: right;\n",
              "    }\n",
              "</style>\n",
              "<table border=\"1\" class=\"dataframe\">\n",
              "  <thead>\n",
              "    <tr style=\"text-align: right;\">\n",
              "      <th></th>\n",
              "      <th>District</th>\n",
              "      <th>Neighborhood</th>\n",
              "      <th>Price</th>\n",
              "      <th>Adrtisement Date</th>\n",
              "      <th>m² (Gross)</th>\n",
              "      <th>m² (Net)</th>\n",
              "      <th>Number of rooms</th>\n",
              "      <th>Building Age</th>\n",
              "      <th>Floor location</th>\n",
              "      <th>Number of floors</th>\n",
              "      <th>...</th>\n",
              "      <th>Top floor</th>\n",
              "      <th>Garage / Shop Top</th>\n",
              "      <th>Entrance floor</th>\n",
              "      <th>Floor Duplex</th>\n",
              "      <th>Private Entry</th>\n",
              "      <th>Rerse Duplex</th>\n",
              "      <th>Triplex</th>\n",
              "      <th>Ground floor</th>\n",
              "      <th>Roof Duplex</th>\n",
              "      <th>Pick Up Data Time</th>\n",
              "    </tr>\n",
              "  </thead>\n",
              "  <tbody>\n",
              "    <tr>\n",
              "      <th>0</th>\n",
              "      <td>Tuzla</td>\n",
              "      <td>Aydınlı Mh.</td>\n",
              "      <td>165.000 TL</td>\n",
              "      <td>04.01.2020</td>\n",
              "      <td>50</td>\n",
              "      <td>40.0</td>\n",
              "      <td>1+1</td>\n",
              "      <td>5-10 between</td>\n",
              "      <td>5</td>\n",
              "      <td>13</td>\n",
              "      <td>...</td>\n",
              "      <td>0</td>\n",
              "      <td>0</td>\n",
              "      <td>0</td>\n",
              "      <td>0</td>\n",
              "      <td>0</td>\n",
              "      <td>0</td>\n",
              "      <td>0</td>\n",
              "      <td>0</td>\n",
              "      <td>0</td>\n",
              "      <td>01.08.2020</td>\n",
              "    </tr>\n",
              "    <tr>\n",
              "      <th>1</th>\n",
              "      <td>Fatih</td>\n",
              "      <td>Katip Kasım Mh.</td>\n",
              "      <td>207.000 TL</td>\n",
              "      <td>06.01.2020</td>\n",
              "      <td>42</td>\n",
              "      <td>42.0</td>\n",
              "      <td>1+1</td>\n",
              "      <td>31  and more than</td>\n",
              "      <td>Ground floor</td>\n",
              "      <td>3</td>\n",
              "      <td>...</td>\n",
              "      <td>0</td>\n",
              "      <td>0</td>\n",
              "      <td>0</td>\n",
              "      <td>0</td>\n",
              "      <td>0</td>\n",
              "      <td>0</td>\n",
              "      <td>0</td>\n",
              "      <td>0</td>\n",
              "      <td>0</td>\n",
              "      <td>01.10.2020</td>\n",
              "    </tr>\n",
              "    <tr>\n",
              "      <th>2</th>\n",
              "      <td>Çekmeköy</td>\n",
              "      <td>Çatalmeşe Mh.</td>\n",
              "      <td>153.000 TL</td>\n",
              "      <td>31.12.2019</td>\n",
              "      <td>55</td>\n",
              "      <td>45.0</td>\n",
              "      <td>1+1</td>\n",
              "      <td>1</td>\n",
              "      <td>Kot 1</td>\n",
              "      <td>7</td>\n",
              "      <td>...</td>\n",
              "      <td>0</td>\n",
              "      <td>0</td>\n",
              "      <td>0</td>\n",
              "      <td>0</td>\n",
              "      <td>0</td>\n",
              "      <td>0</td>\n",
              "      <td>0</td>\n",
              "      <td>0</td>\n",
              "      <td>0</td>\n",
              "      <td>01.10.2020</td>\n",
              "    </tr>\n",
              "    <tr>\n",
              "      <th>3</th>\n",
              "      <td>Çekmeköy</td>\n",
              "      <td>Mehmet Akif Ersoy Mah.</td>\n",
              "      <td>205.000 TL</td>\n",
              "      <td>29.12.2019</td>\n",
              "      <td>62</td>\n",
              "      <td>46.0</td>\n",
              "      <td>1+1</td>\n",
              "      <td>0</td>\n",
              "      <td>High entrance</td>\n",
              "      <td>5</td>\n",
              "      <td>...</td>\n",
              "      <td>0</td>\n",
              "      <td>0</td>\n",
              "      <td>0</td>\n",
              "      <td>0</td>\n",
              "      <td>0</td>\n",
              "      <td>0</td>\n",
              "      <td>0</td>\n",
              "      <td>0</td>\n",
              "      <td>0</td>\n",
              "      <td>01.10.2020</td>\n",
              "    </tr>\n",
              "    <tr>\n",
              "      <th>4</th>\n",
              "      <td>Küçükçekmece</td>\n",
              "      <td>Halkalı Merkez Mh.</td>\n",
              "      <td>150.000 TL</td>\n",
              "      <td>01.01.2020</td>\n",
              "      <td>70</td>\n",
              "      <td>55.0</td>\n",
              "      <td>1+1</td>\n",
              "      <td>5-10 between</td>\n",
              "      <td>Garden Floor</td>\n",
              "      <td>4</td>\n",
              "      <td>...</td>\n",
              "      <td>0</td>\n",
              "      <td>0</td>\n",
              "      <td>0</td>\n",
              "      <td>0</td>\n",
              "      <td>0</td>\n",
              "      <td>0</td>\n",
              "      <td>0</td>\n",
              "      <td>0</td>\n",
              "      <td>0</td>\n",
              "      <td>01.07.2020</td>\n",
              "    </tr>\n",
              "  </tbody>\n",
              "</table>\n",
              "<p>5 rows × 179 columns</p>\n",
              "</div>\n",
              "    <div class=\"colab-df-buttons\">\n",
              "\n",
              "  <div class=\"colab-df-container\">\n",
              "    <button class=\"colab-df-convert\" onclick=\"convertToInteractive('df-18aed441-cb3a-434a-8ec3-c1f5300375c2')\"\n",
              "            title=\"Convert this dataframe to an interactive table.\"\n",
              "            style=\"display:none;\">\n",
              "\n",
              "  <svg xmlns=\"http://www.w3.org/2000/svg\" height=\"24px\" viewBox=\"0 -960 960 960\">\n",
              "    <path d=\"M120-120v-720h720v720H120Zm60-500h600v-160H180v160Zm220 220h160v-160H400v160Zm0 220h160v-160H400v160ZM180-400h160v-160H180v160Zm440 0h160v-160H620v160ZM180-180h160v-160H180v160Zm440 0h160v-160H620v160Z\"/>\n",
              "  </svg>\n",
              "    </button>\n",
              "\n",
              "  <style>\n",
              "    .colab-df-container {\n",
              "      display:flex;\n",
              "      gap: 12px;\n",
              "    }\n",
              "\n",
              "    .colab-df-convert {\n",
              "      background-color: #E8F0FE;\n",
              "      border: none;\n",
              "      border-radius: 50%;\n",
              "      cursor: pointer;\n",
              "      display: none;\n",
              "      fill: #1967D2;\n",
              "      height: 32px;\n",
              "      padding: 0 0 0 0;\n",
              "      width: 32px;\n",
              "    }\n",
              "\n",
              "    .colab-df-convert:hover {\n",
              "      background-color: #E2EBFA;\n",
              "      box-shadow: 0px 1px 2px rgba(60, 64, 67, 0.3), 0px 1px 3px 1px rgba(60, 64, 67, 0.15);\n",
              "      fill: #174EA6;\n",
              "    }\n",
              "\n",
              "    .colab-df-buttons div {\n",
              "      margin-bottom: 4px;\n",
              "    }\n",
              "\n",
              "    [theme=dark] .colab-df-convert {\n",
              "      background-color: #3B4455;\n",
              "      fill: #D2E3FC;\n",
              "    }\n",
              "\n",
              "    [theme=dark] .colab-df-convert:hover {\n",
              "      background-color: #434B5C;\n",
              "      box-shadow: 0px 1px 3px 1px rgba(0, 0, 0, 0.15);\n",
              "      filter: drop-shadow(0px 1px 2px rgba(0, 0, 0, 0.3));\n",
              "      fill: #FFFFFF;\n",
              "    }\n",
              "  </style>\n",
              "\n",
              "    <script>\n",
              "      const buttonEl =\n",
              "        document.querySelector('#df-18aed441-cb3a-434a-8ec3-c1f5300375c2 button.colab-df-convert');\n",
              "      buttonEl.style.display =\n",
              "        google.colab.kernel.accessAllowed ? 'block' : 'none';\n",
              "\n",
              "      async function convertToInteractive(key) {\n",
              "        const element = document.querySelector('#df-18aed441-cb3a-434a-8ec3-c1f5300375c2');\n",
              "        const dataTable =\n",
              "          await google.colab.kernel.invokeFunction('convertToInteractive',\n",
              "                                                    [key], {});\n",
              "        if (!dataTable) return;\n",
              "\n",
              "        const docLinkHtml = 'Like what you see? Visit the ' +\n",
              "          '<a target=\"_blank\" href=https://colab.research.google.com/notebooks/data_table.ipynb>data table notebook</a>'\n",
              "          + ' to learn more about interactive tables.';\n",
              "        element.innerHTML = '';\n",
              "        dataTable['output_type'] = 'display_data';\n",
              "        await google.colab.output.renderOutput(dataTable, element);\n",
              "        const docLink = document.createElement('div');\n",
              "        docLink.innerHTML = docLinkHtml;\n",
              "        element.appendChild(docLink);\n",
              "      }\n",
              "    </script>\n",
              "  </div>\n",
              "\n",
              "\n",
              "<div id=\"df-e85c52c0-40e1-421f-92da-06ce25af5666\">\n",
              "  <button class=\"colab-df-quickchart\" onclick=\"quickchart('df-e85c52c0-40e1-421f-92da-06ce25af5666')\"\n",
              "            title=\"Suggest charts\"\n",
              "            style=\"display:none;\">\n",
              "\n",
              "<svg xmlns=\"http://www.w3.org/2000/svg\" height=\"24px\"viewBox=\"0 0 24 24\"\n",
              "     width=\"24px\">\n",
              "    <g>\n",
              "        <path d=\"M19 3H5c-1.1 0-2 .9-2 2v14c0 1.1.9 2 2 2h14c1.1 0 2-.9 2-2V5c0-1.1-.9-2-2-2zM9 17H7v-7h2v7zm4 0h-2V7h2v10zm4 0h-2v-4h2v4z\"/>\n",
              "    </g>\n",
              "</svg>\n",
              "  </button>\n",
              "\n",
              "<style>\n",
              "  .colab-df-quickchart {\n",
              "      --bg-color: #E8F0FE;\n",
              "      --fill-color: #1967D2;\n",
              "      --hover-bg-color: #E2EBFA;\n",
              "      --hover-fill-color: #174EA6;\n",
              "      --disabled-fill-color: #AAA;\n",
              "      --disabled-bg-color: #DDD;\n",
              "  }\n",
              "\n",
              "  [theme=dark] .colab-df-quickchart {\n",
              "      --bg-color: #3B4455;\n",
              "      --fill-color: #D2E3FC;\n",
              "      --hover-bg-color: #434B5C;\n",
              "      --hover-fill-color: #FFFFFF;\n",
              "      --disabled-bg-color: #3B4455;\n",
              "      --disabled-fill-color: #666;\n",
              "  }\n",
              "\n",
              "  .colab-df-quickchart {\n",
              "    background-color: var(--bg-color);\n",
              "    border: none;\n",
              "    border-radius: 50%;\n",
              "    cursor: pointer;\n",
              "    display: none;\n",
              "    fill: var(--fill-color);\n",
              "    height: 32px;\n",
              "    padding: 0;\n",
              "    width: 32px;\n",
              "  }\n",
              "\n",
              "  .colab-df-quickchart:hover {\n",
              "    background-color: var(--hover-bg-color);\n",
              "    box-shadow: 0 1px 2px rgba(60, 64, 67, 0.3), 0 1px 3px 1px rgba(60, 64, 67, 0.15);\n",
              "    fill: var(--button-hover-fill-color);\n",
              "  }\n",
              "\n",
              "  .colab-df-quickchart-complete:disabled,\n",
              "  .colab-df-quickchart-complete:disabled:hover {\n",
              "    background-color: var(--disabled-bg-color);\n",
              "    fill: var(--disabled-fill-color);\n",
              "    box-shadow: none;\n",
              "  }\n",
              "\n",
              "  .colab-df-spinner {\n",
              "    border: 2px solid var(--fill-color);\n",
              "    border-color: transparent;\n",
              "    border-bottom-color: var(--fill-color);\n",
              "    animation:\n",
              "      spin 1s steps(1) infinite;\n",
              "  }\n",
              "\n",
              "  @keyframes spin {\n",
              "    0% {\n",
              "      border-color: transparent;\n",
              "      border-bottom-color: var(--fill-color);\n",
              "      border-left-color: var(--fill-color);\n",
              "    }\n",
              "    20% {\n",
              "      border-color: transparent;\n",
              "      border-left-color: var(--fill-color);\n",
              "      border-top-color: var(--fill-color);\n",
              "    }\n",
              "    30% {\n",
              "      border-color: transparent;\n",
              "      border-left-color: var(--fill-color);\n",
              "      border-top-color: var(--fill-color);\n",
              "      border-right-color: var(--fill-color);\n",
              "    }\n",
              "    40% {\n",
              "      border-color: transparent;\n",
              "      border-right-color: var(--fill-color);\n",
              "      border-top-color: var(--fill-color);\n",
              "    }\n",
              "    60% {\n",
              "      border-color: transparent;\n",
              "      border-right-color: var(--fill-color);\n",
              "    }\n",
              "    80% {\n",
              "      border-color: transparent;\n",
              "      border-right-color: var(--fill-color);\n",
              "      border-bottom-color: var(--fill-color);\n",
              "    }\n",
              "    90% {\n",
              "      border-color: transparent;\n",
              "      border-bottom-color: var(--fill-color);\n",
              "    }\n",
              "  }\n",
              "</style>\n",
              "\n",
              "  <script>\n",
              "    async function quickchart(key) {\n",
              "      const quickchartButtonEl =\n",
              "        document.querySelector('#' + key + ' button');\n",
              "      quickchartButtonEl.disabled = true;  // To prevent multiple clicks.\n",
              "      quickchartButtonEl.classList.add('colab-df-spinner');\n",
              "      try {\n",
              "        const charts = await google.colab.kernel.invokeFunction(\n",
              "            'suggestCharts', [key], {});\n",
              "      } catch (error) {\n",
              "        console.error('Error during call to suggestCharts:', error);\n",
              "      }\n",
              "      quickchartButtonEl.classList.remove('colab-df-spinner');\n",
              "      quickchartButtonEl.classList.add('colab-df-quickchart-complete');\n",
              "    }\n",
              "    (() => {\n",
              "      let quickchartButtonEl =\n",
              "        document.querySelector('#df-e85c52c0-40e1-421f-92da-06ce25af5666 button');\n",
              "      quickchartButtonEl.style.display =\n",
              "        google.colab.kernel.accessAllowed ? 'block' : 'none';\n",
              "    })();\n",
              "  </script>\n",
              "</div>\n",
              "    </div>\n",
              "  </div>\n"
            ]
          },
          "metadata": {},
          "execution_count": 5
        }
      ]
    },
    {
      "cell_type": "code",
      "source": [
        "print(data.dtypes.to_markdown())"
      ],
      "metadata": {
        "colab": {
          "base_uri": "https://localhost:8080/"
        },
        "id": "MG3QkimR1yiz",
        "outputId": "a62137ce-7b28-4c87-b8bb-36fb6c38b53b"
      },
      "execution_count": null,
      "outputs": [
        {
          "output_type": "stream",
          "name": "stdout",
          "text": [
            "|                                 | 0       |\n",
            "|:--------------------------------|:--------|\n",
            "| District                        | object  |\n",
            "| Neighborhood                    | object  |\n",
            "| Price                           | object  |\n",
            "| Adrtisement Date                | object  |\n",
            "| m² (Gross)                      | int64   |\n",
            "| m² (Net)                        | float64 |\n",
            "| Number of rooms                 | object  |\n",
            "| Building Age                    | object  |\n",
            "| Floor location                  | object  |\n",
            "| Number of floors                | object  |\n",
            "| Heating                         | object  |\n",
            "| Number of bathrooms             | object  |\n",
            "| Balcony                         | object  |\n",
            "| Furnished                       | object  |\n",
            "| Using status                    | object  |\n",
            "| Available for Loan              | object  |\n",
            "| From who                        | object  |\n",
            "| Swap                            | object  |\n",
            "| Front West                      | int64   |\n",
            "| Front East                      | int64   |\n",
            "| Front South                     | int64   |\n",
            "| Front North                     | int64   |\n",
            "| ADSL                            | int64   |\n",
            "| Wood Joinery                    | int64   |\n",
            "| Smart House                     | int64   |\n",
            "| Alarm (Thief)                   | int64   |\n",
            "| Alarm (Fire)                    | int64   |\n",
            "| Alaturka Toilet                 | int64   |\n",
            "| Aluminum joinery                | int64   |\n",
            "| American Door                   | int64   |\n",
            "| American kitchen                | int64   |\n",
            "| Built-in on                     | int64   |\n",
            "| Elevator                        | int64   |\n",
            "| Balcony.1                       | int64   |\n",
            "| Barbecue                        | int64   |\n",
            "| Household appliances            | int64   |\n",
            "| Painted                         | int64   |\n",
            "| Dishwasher                      | int64   |\n",
            "| Refrigerator                    | int64   |\n",
            "| Wall paper                      | int64   |\n",
            "| Shower                          | int64   |\n",
            "| Parents' Bathroom               | int64   |\n",
            "| Fiber Internet                  | int64   |\n",
            "| On                              | int64   |\n",
            "| Dressing room                   | int64   |\n",
            "| Closet                          | int64   |\n",
            "| Video intercom                  | int64   |\n",
            "| Hilton Bathroom                 | int64   |\n",
            "| Intercom System                 | int64   |\n",
            "| Insulating glass                | int64   |\n",
            "| Jacuzzi                         | int64   |\n",
            "| Plasterboard                    | int64   |\n",
            "| Cellar                          | int64   |\n",
            "| Air conditioning                | int64   |\n",
            "| Tub                             | int64   |\n",
            "| Laminate Floor                  | int64   |\n",
            "| Marley                          | int64   |\n",
            "| Furniture                       | int64   |\n",
            "| Kitchen (Built-in)              | int64   |\n",
            "| Kitchen (Laminate)              | int64   |\n",
            "| Kitchen Natural Gas             | int64   |\n",
            "| PVC Joinery                     | int64   |\n",
            "| Blinds                          | int64   |\n",
            "| Parquet Floor                   | int64   |\n",
            "| Ceramic Floor                   | int64   |\n",
            "| Set Top Cooker                  | int64   |\n",
            "| Spot Lighting                   | int64   |\n",
            "| Terrace                         | int64   |\n",
            "| Thermosiphon                    | int64   |\n",
            "| Cloakroom                       | int64   |\n",
            "| Wi-Fi                           | int64   |\n",
            "| Face Recognition & Fingerprint  | int64   |\n",
            "| Washing Machine                 | int64   |\n",
            "| Washing machine                 | int64   |\n",
            "| Laundry room                    | int64   |\n",
            "| Steel door                      | int64   |\n",
            "| Water heater                    | int64   |\n",
            "| Fireplace                       | int64   |\n",
            "| Elevator.1                      | int64   |\n",
            "| Steam room                      | int64   |\n",
            "| Security                        | int64   |\n",
            "| Bath                            | int64   |\n",
            "| Booster                         | int64   |\n",
            "| Thermal Insulation              | int64   |\n",
            "| Generator                       | int64   |\n",
            "| Cable TV                        | int64   |\n",
            "| Closed Garage                   | int64   |\n",
            "| Doorman                         | int64   |\n",
            "| Nursery                         | int64   |\n",
            "| With Private Pool               | int64   |\n",
            "| Car park                        | int64   |\n",
            "| Playground                      | int64   |\n",
            "| Sauna                           | int64   |\n",
            "| Sound insulation                | int64   |\n",
            "| Siding                          | int64   |\n",
            "| Sports Area                     | int64   |\n",
            "| Water tank                      | int64   |\n",
            "| Tennis court                    | int64   |\n",
            "| Satellite                       | int64   |\n",
            "| Fire escape                     | int64   |\n",
            "| Swimming Pool (Open)            | int64   |\n",
            "| Swimming Pool (Indoor)          | int64   |\n",
            "| Parking Lot                     | int64   |\n",
            "| Elevator.2                      | int64   |\n",
            "| Bathroom                        | int64   |\n",
            "| Wide Corridor                   | int64   |\n",
            "| Entrance / Ramp                 | int64   |\n",
            "| Stairs                          | int64   |\n",
            "| Kitchen                         | int64   |\n",
            "| Room door                       | int64   |\n",
            "| Park                            | int64   |\n",
            "| Socket / Electric Switch        | int64   |\n",
            "| Handle / Railing                | int64   |\n",
            "| Toilet                          | int64   |\n",
            "| Swimming pool                   | int64   |\n",
            "| The mall                        | int64   |\n",
            "| municipality                    | int64   |\n",
            "| Mosque                          | int64   |\n",
            "| Cemevi                          | int64   |\n",
            "| Next to sea shore               | int64   |\n",
            "| Pharmacy                        | int64   |\n",
            "| Amusement center                | int64   |\n",
            "| Fair                            | int64   |\n",
            "| Hospital                        | int64   |\n",
            "| Synagogue                       | int64   |\n",
            "| The church                      | int64   |\n",
            "| High school                     | int64   |\n",
            "| Market                          | int64   |\n",
            "| Park.1                          | int64   |\n",
            "| Police station                  | int64   |\n",
            "| The health clinic               | int64   |\n",
            "| District Market                 | int64   |\n",
            "| Gym                             | int64   |\n",
            "| Unirsity                        | int64   |\n",
            "| Primary School-Secondary School | int64   |\n",
            "| Fire Department                 | int64   |\n",
            "| Town center                     | int64   |\n",
            "| Highway                         | int64   |\n",
            "| Eurasia Tunnel                  | int64   |\n",
            "| Bosphorus Bridges               | int64   |\n",
            "| Street                          | int64   |\n",
            "| Sea bus                         | int64   |\n",
            "| Filled                          | int64   |\n",
            "| E-5                             | int64   |\n",
            "| Airport                         | int64   |\n",
            "| Marmaray                        | int64   |\n",
            "| Metro                           | int64   |\n",
            "| Metrobus                        | int64   |\n",
            "| Minibus                         | int64   |\n",
            "| Bus stop                        | int64   |\n",
            "| Coast                           | int64   |\n",
            "| TEM                             | int64   |\n",
            "| Cable car                       | int64   |\n",
            "| Tram                            | int64   |\n",
            "| Railway station                 | int64   |\n",
            "| Trolley bus                     | int64   |\n",
            "| Scaffolding                     | int64   |\n",
            "| Throat                          | int64   |\n",
            "| Sea                             | int64   |\n",
            "| Nature                          | int64   |\n",
            "| Lake                            | int64   |\n",
            "| Pool                            | int64   |\n",
            "| Park & ​​Green Area               | int64   |\n",
            "| City                            | int64   |\n",
            "| Mezzanine                       | int64   |\n",
            "| Mezzanine Duplex                | int64   |\n",
            "| Garden Duplex                   | int64   |\n",
            "| Garden Floor                    | int64   |\n",
            "| Garden                          | int64   |\n",
            "| Top floor                       | int64   |\n",
            "| Garage / Shop Top               | int64   |\n",
            "| Entrance floor                  | int64   |\n",
            "| Floor Duplex                    | int64   |\n",
            "| Private Entry                   | int64   |\n",
            "| Rerse Duplex                    | int64   |\n",
            "| Triplex                         | int64   |\n",
            "| Ground floor                    | int64   |\n",
            "| Roof Duplex                     | int64   |\n",
            "| Pick Up Data Time               | object  |\n"
          ]
        }
      ]
    },
    {
      "cell_type": "markdown",
      "source": [
        "Drop missing values"
      ],
      "metadata": {
        "id": "qoZaFYtjOOoT"
      }
    },
    {
      "cell_type": "code",
      "source": [
        "data = data.dropna()"
      ],
      "metadata": {
        "id": "9CpiZ05iONLU"
      },
      "execution_count": null,
      "outputs": []
    },
    {
      "cell_type": "markdown",
      "source": [
        "Drop duplicates"
      ],
      "metadata": {
        "id": "wOAv62RJm9V9"
      }
    },
    {
      "cell_type": "code",
      "source": [
        "data = data.drop_duplicates()"
      ],
      "metadata": {
        "id": "8W6W3UOOOh5v"
      },
      "execution_count": null,
      "outputs": []
    },
    {
      "cell_type": "markdown",
      "source": [
        "## Numerical columns processing"
      ],
      "metadata": {
        "id": "WgkYzaoMG7s3"
      }
    },
    {
      "cell_type": "markdown",
      "source": [
        "\n",
        "Number of rooms transform"
      ],
      "metadata": {
        "id": "EqAFl4G828MP"
      }
    },
    {
      "cell_type": "code",
      "source": [
        "data['Studio'] = data['Number of rooms'].str.contains('Studio').astype(int)\n",
        "data.loc[data['Number of rooms'] == '10 and more than', 'Number of rooms'] = data.loc[data['Number of rooms'] == '10 and more than', 'Number of rooms'].copy().str[:2]\n",
        "data['Number of rooms'] = data['Number of rooms'].apply(lambda x: sum(map(float, [_ for _ in x.split('+') if _.isdigit()])))"
      ],
      "metadata": {
        "id": "K9m2xgIt0aNS",
        "colab": {
          "base_uri": "https://localhost:8080/"
        },
        "outputId": "812eabd2-0261-4cf2-8bac-989d819909f9"
      },
      "execution_count": null,
      "outputs": [
        {
          "output_type": "stream",
          "name": "stderr",
          "text": [
            "<ipython-input-7-9afe4ab0bb9d>:1: SettingWithCopyWarning: \n",
            "A value is trying to be set on a copy of a slice from a DataFrame.\n",
            "Try using .loc[row_indexer,col_indexer] = value instead\n",
            "\n",
            "See the caveats in the documentation: https://pandas.pydata.org/pandas-docs/stable/user_guide/indexing.html#returning-a-view-versus-a-copy\n",
            "  data['Studio'] = data['Number of rooms'].str.contains('Studio').astype(int)\n"
          ]
        }
      ]
    },
    {
      "cell_type": "markdown",
      "source": [
        "Floor location transform"
      ],
      "metadata": {
        "id": "ZPDve8B86W6m"
      }
    },
    {
      "cell_type": "code",
      "source": [
        "for floor in data['Floor location'].unique():\n",
        "    if not floor.isdigit():\n",
        "        data[floor] = np.int64(data['Floor location'] == floor)\n",
        "        data.loc[data['Floor location'] == floor, 'Floor location'] = 0"
      ],
      "metadata": {
        "id": "vacZs2U85MfY"
      },
      "execution_count": null,
      "outputs": []
    },
    {
      "cell_type": "code",
      "source": [
        "data['Floor location'] = data['Floor location'].astype(int)"
      ],
      "metadata": {
        "id": "ZI_t5emd6TN3"
      },
      "execution_count": null,
      "outputs": []
    },
    {
      "cell_type": "markdown",
      "source": [
        "Number of floors transform"
      ],
      "metadata": {
        "id": "SMZJldHu6-mP"
      }
    },
    {
      "cell_type": "code",
      "source": [
        "data.loc[data['Number of floors'] == '30  and more than', 'Number of floors'] = data.loc[data['Number of floors'] == '30  and more than', 'Number of floors'].copy().str[:2]"
      ],
      "metadata": {
        "id": "uTC_VPSz6fi3"
      },
      "execution_count": null,
      "outputs": []
    },
    {
      "cell_type": "code",
      "source": [
        "data['Number of floors'] = data['Number of floors'].astype(int)"
      ],
      "metadata": {
        "id": "VuldKyyt3KZY"
      },
      "execution_count": null,
      "outputs": []
    },
    {
      "cell_type": "markdown",
      "source": [
        "Number of bathrooms transform"
      ],
      "metadata": {
        "id": "ORjuZcre7aNP"
      }
    },
    {
      "cell_type": "code",
      "source": [
        "data.loc[data['Number of bathrooms'] == '6 and more than', 'Number of bathrooms'] = data.loc[data['Number of bathrooms'] == '6 and more than', 'Number of bathrooms'].copy().str[:2]\n",
        "data.loc[data['Number of bathrooms'] == 'Absent', 'Number of bathrooms'] = 0"
      ],
      "metadata": {
        "id": "TY_RlzSk7NfB"
      },
      "execution_count": null,
      "outputs": []
    },
    {
      "cell_type": "code",
      "source": [
        "data['Number of bathrooms'] = data['Number of bathrooms'].astype(int)"
      ],
      "metadata": {
        "id": "h-5BFolz7AxO"
      },
      "execution_count": null,
      "outputs": []
    },
    {
      "cell_type": "markdown",
      "source": [
        "Drop timestamp columns"
      ],
      "metadata": {
        "id": "ZLKDe4E1ORjo"
      }
    },
    {
      "cell_type": "code",
      "source": [
        "data = data.drop(['Adrtisement Date', 'Pick Up Data Time'], axis=1)"
      ],
      "metadata": {
        "id": "X3vercMTOho8"
      },
      "execution_count": null,
      "outputs": []
    },
    {
      "cell_type": "markdown",
      "source": [
        "Price transformation"
      ],
      "metadata": {
        "id": "ATcCqNX-zLtc"
      }
    },
    {
      "cell_type": "code",
      "source": [
        "data['Price'] = data['Price'].str[:-3]\n",
        "data['Price'] = data['Price'].str.replace('.', '')\n",
        "data['Price'] = data['Price'].astype(int)"
      ],
      "metadata": {
        "colab": {
          "base_uri": "https://localhost:8080/"
        },
        "id": "XlmY0MHtwmv-",
        "outputId": "f952591c-0ebf-4aa2-df04-329372d52ea4"
      },
      "execution_count": null,
      "outputs": [
        {
          "output_type": "stream",
          "name": "stderr",
          "text": [
            "<ipython-input-15-0e3622b6a868>:2: FutureWarning: The default value of regex will change from True to False in a future version. In addition, single character regular expressions will *not* be treated as literal strings when regex=True.\n",
            "  data['Price'] = data['Price'].str.replace('.', '')\n"
          ]
        }
      ]
    },
    {
      "cell_type": "code",
      "source": [
        "sns.kdeplot(data['Price'])"
      ],
      "metadata": {
        "colab": {
          "base_uri": "https://localhost:8080/",
          "height": 483
        },
        "id": "_jXrPDLJxxQK",
        "outputId": "732b062f-964e-4a95-9f99-fa723c6528f8"
      },
      "execution_count": null,
      "outputs": [
        {
          "output_type": "execute_result",
          "data": {
            "text/plain": [
              "<Axes: xlabel='Price', ylabel='Density'>"
            ]
          },
          "metadata": {},
          "execution_count": 16
        },
        {
          "output_type": "display_data",
          "data": {
            "text/plain": [
              "<Figure size 640x480 with 1 Axes>"
            ],
            "image/png": "[encoded data removed]"
          },
          "metadata": {}
        }
      ]
    },
    {
      "cell_type": "code",
      "source": [
        "data['Price'] = data['Price'].apply(np.log)"
      ],
      "metadata": {
        "id": "ByOgbd0CzHUA"
      },
      "execution_count": null,
      "outputs": []
    },
    {
      "cell_type": "code",
      "source": [
        "sns.kdeplot(data['Price'])"
      ],
      "metadata": {
        "colab": {
          "base_uri": "https://localhost:8080/",
          "height": 467
        },
        "id": "4BgGGxBsyhMy",
        "outputId": "0c3c4b66-d0d5-400b-c710-427a0e9ead7e"
      },
      "execution_count": null,
      "outputs": [
        {
          "output_type": "execute_result",
          "data": {
            "text/plain": [
              "<Axes: xlabel='Price', ylabel='Density'>"
            ]
          },
          "metadata": {},
          "execution_count": 18
        },
        {
          "output_type": "display_data",
          "data": {
            "text/plain": [
              "<Figure size 640x480 with 1 Axes>"
            ],
            "image/png": "[encoded data removed]"
          },
          "metadata": {}
        }
      ]
    },
    {
      "cell_type": "markdown",
      "source": [
        "## Data encoding"
      ],
      "metadata": {
        "id": "osN_zeRQHAgy"
      }
    },
    {
      "cell_type": "code",
      "source": [
        "categorical_columns = [column for column in data.columns if data[column].dtype == 'object']"
      ],
      "metadata": {
        "id": "sET5bWOWCj4N"
      },
      "execution_count": null,
      "outputs": []
    },
    {
      "cell_type": "code",
      "source": [
        "encoder = OneHotEncoder(sparse_output=False, drop='if_binary')"
      ],
      "metadata": {
        "id": "jy3SAk-KEZkr"
      },
      "execution_count": null,
      "outputs": []
    },
    {
      "cell_type": "code",
      "source": [
        "encoded_data = encoder.fit_transform(data[categorical_columns])"
      ],
      "metadata": {
        "id": "RHpWtIyUEmKb"
      },
      "execution_count": null,
      "outputs": []
    },
    {
      "cell_type": "code",
      "source": [
        "encoded_df = pd.DataFrame(encoded_data, columns=encoder.get_feature_names_out())"
      ],
      "metadata": {
        "id": "ZSPHGqyZErJL"
      },
      "execution_count": null,
      "outputs": []
    },
    {
      "cell_type": "code",
      "source": [
        "data = data.drop(categorical_columns, axis=1)\n",
        "data = pd.concat([data.reset_index(drop=True), encoded_df], axis=1)"
      ],
      "metadata": {
        "id": "C3GCy1mQE97z"
      },
      "execution_count": null,
      "outputs": []
    },
    {
      "cell_type": "markdown",
      "source": [
        "## Multicolinearity check"
      ],
      "metadata": {
        "id": "UHz92VMZFoG3"
      }
    },
    {
      "cell_type": "code",
      "source": [
        "numerical_columns = ['m² (Gross)', 'm² (Net)', 'Number of rooms', 'Floor location', 'Number of floors', 'Number of bathrooms']"
      ],
      "metadata": {
        "id": "iWZRqpCfFGA7"
      },
      "execution_count": null,
      "outputs": []
    },
    {
      "cell_type": "code",
      "source": [
        "data[numerical_columns].corr()"
      ],
      "metadata": {
        "colab": {
          "base_uri": "https://localhost:8080/",
          "height": 238
        },
        "id": "sAqrS6VmGUtD",
        "outputId": "6469cf8e-f569-4553-f219-0cda3c351cd3"
      },
      "execution_count": null,
      "outputs": [
        {
          "output_type": "execute_result",
          "data": {
            "text/plain": [
              "                     m² (Gross)  m² (Net)  Number of rooms  Floor location  \\\n",
              "m² (Gross)             1.000000  0.696739         0.557546        0.119238   \n",
              "m² (Net)               0.696739  1.000000         0.797759        0.123247   \n",
              "Number of rooms        0.557546  0.797759         1.000000        0.086457   \n",
              "Floor location         0.119238  0.123247         0.086457        1.000000   \n",
              "Number of floors       0.015232 -0.046925        -0.121633        0.652733   \n",
              "Number of bathrooms    0.509130  0.690948         0.598428        0.185262   \n",
              "\n",
              "                     Number of floors  Number of bathrooms  \n",
              "m² (Gross)                   0.015232             0.509130  \n",
              "m² (Net)                    -0.046925             0.690948  \n",
              "Number of rooms             -0.121633             0.598428  \n",
              "Floor location               0.652733             0.185262  \n",
              "Number of floors             1.000000             0.080783  \n",
              "Number of bathrooms          0.080783             1.000000  "
            ],
            "text/html": [
              "\n",
              "  <div id=\"df-42cfffa0-302f-452b-b5ca-ef807dd227f2\" class=\"colab-df-container\">\n",
              "    <div>\n",
              "<style scoped>\n",
              "    .dataframe tbody tr th:only-of-type {\n",
              "        vertical-align: middle;\n",
              "    }\n",
              "\n",
              "    .dataframe tbody tr th {\n",
              "        vertical-align: top;\n",
              "    }\n",
              "\n",
              "    .dataframe thead th {\n",
              "        text-align: right;\n",
              "    }\n",
              "</style>\n",
              "<table border=\"1\" class=\"dataframe\">\n",
              "  <thead>\n",
              "    <tr style=\"text-align: right;\">\n",
              "      <th></th>\n",
              "      <th>m² (Gross)</th>\n",
              "      <th>m² (Net)</th>\n",
              "      <th>Number of rooms</th>\n",
              "      <th>Floor location</th>\n",
              "      <th>Number of floors</th>\n",
              "      <th>Number of bathrooms</th>\n",
              "    </tr>\n",
              "  </thead>\n",
              "  <tbody>\n",
              "    <tr>\n",
              "      <th>m² (Gross)</th>\n",
              "      <td>1.000000</td>\n",
              "      <td>0.696739</td>\n",
              "      <td>0.557546</td>\n",
              "      <td>0.119238</td>\n",
              "      <td>0.015232</td>\n",
              "      <td>0.509130</td>\n",
              "    </tr>\n",
              "    <tr>\n",
              "      <th>m² (Net)</th>\n",
              "      <td>0.696739</td>\n",
              "      <td>1.000000</td>\n",
              "      <td>0.797759</td>\n",
              "      <td>0.123247</td>\n",
              "      <td>-0.046925</td>\n",
              "      <td>0.690948</td>\n",
              "    </tr>\n",
              "    <tr>\n",
              "      <th>Number of rooms</th>\n",
              "      <td>0.557546</td>\n",
              "      <td>0.797759</td>\n",
              "      <td>1.000000</td>\n",
              "      <td>0.086457</td>\n",
              "      <td>-0.121633</td>\n",
              "      <td>0.598428</td>\n",
              "    </tr>\n",
              "    <tr>\n",
              "      <th>Floor location</th>\n",
              "      <td>0.119238</td>\n",
              "      <td>0.123247</td>\n",
              "      <td>0.086457</td>\n",
              "      <td>1.000000</td>\n",
              "      <td>0.652733</td>\n",
              "      <td>0.185262</td>\n",
              "    </tr>\n",
              "    <tr>\n",
              "      <th>Number of floors</th>\n",
              "      <td>0.015232</td>\n",
              "      <td>-0.046925</td>\n",
              "      <td>-0.121633</td>\n",
              "      <td>0.652733</td>\n",
              "      <td>1.000000</td>\n",
              "      <td>0.080783</td>\n",
              "    </tr>\n",
              "    <tr>\n",
              "      <th>Number of bathrooms</th>\n",
              "      <td>0.509130</td>\n",
              "      <td>0.690948</td>\n",
              "      <td>0.598428</td>\n",
              "      <td>0.185262</td>\n",
              "      <td>0.080783</td>\n",
              "      <td>1.000000</td>\n",
              "    </tr>\n",
              "  </tbody>\n",
              "</table>\n",
              "</div>\n",
              "    <div class=\"colab-df-buttons\">\n",
              "\n",
              "  <div class=\"colab-df-container\">\n",
              "    <button class=\"colab-df-convert\" onclick=\"convertToInteractive('df-42cfffa0-302f-452b-b5ca-ef807dd227f2')\"\n",
              "            title=\"Convert this dataframe to an interactive table.\"\n",
              "            style=\"display:none;\">\n",
              "\n",
              "  <svg xmlns=\"http://www.w3.org/2000/svg\" height=\"24px\" viewBox=\"0 -960 960 960\">\n",
              "    <path d=\"M120-120v-720h720v720H120Zm60-500h600v-160H180v160Zm220 220h160v-160H400v160Zm0 220h160v-160H400v160ZM180-400h160v-160H180v160Zm440 0h160v-160H620v160ZM180-180h160v-160H180v160Zm440 0h160v-160H620v160Z\"/>\n",
              "  </svg>\n",
              "    </button>\n",
              "\n",
              "  <style>\n",
              "    .colab-df-container {\n",
              "      display:flex;\n",
              "      gap: 12px;\n",
              "    }\n",
              "\n",
              "    .colab-df-convert {\n",
              "      background-color: #E8F0FE;\n",
              "      border: none;\n",
              "      border-radius: 50%;\n",
              "      cursor: pointer;\n",
              "      display: none;\n",
              "      fill: #1967D2;\n",
              "      height: 32px;\n",
              "      padding: 0 0 0 0;\n",
              "      width: 32px;\n",
              "    }\n",
              "\n",
              "    .colab-df-convert:hover {\n",
              "      background-color: #E2EBFA;\n",
              "      box-shadow: 0px 1px 2px rgba(60, 64, 67, 0.3), 0px 1px 3px 1px rgba(60, 64, 67, 0.15);\n",
              "      fill: #174EA6;\n",
              "    }\n",
              "\n",
              "    .colab-df-buttons div {\n",
              "      margin-bottom: 4px;\n",
              "    }\n",
              "\n",
              "    [theme=dark] .colab-df-convert {\n",
              "      background-color: #3B4455;\n",
              "      fill: #D2E3FC;\n",
              "    }\n",
              "\n",
              "    [theme=dark] .colab-df-convert:hover {\n",
              "      background-color: #434B5C;\n",
              "      box-shadow: 0px 1px 3px 1px rgba(0, 0, 0, 0.15);\n",
              "      filter: drop-shadow(0px 1px 2px rgba(0, 0, 0, 0.3));\n",
              "      fill: #FFFFFF;\n",
              "    }\n",
              "  </style>\n",
              "\n",
              "    <script>\n",
              "      const buttonEl =\n",
              "        document.querySelector('#df-42cfffa0-302f-452b-b5ca-ef807dd227f2 button.colab-df-convert');\n",
              "      buttonEl.style.display =\n",
              "        google.colab.kernel.accessAllowed ? 'block' : 'none';\n",
              "\n",
              "      async function convertToInteractive(key) {\n",
              "        const element = document.querySelector('#df-42cfffa0-302f-452b-b5ca-ef807dd227f2');\n",
              "        const dataTable =\n",
              "          await google.colab.kernel.invokeFunction('convertToInteractive',\n",
              "                                                    [key], {});\n",
              "        if (!dataTable) return;\n",
              "\n",
              "        const docLinkHtml = 'Like what you see? Visit the ' +\n",
              "          '<a target=\"_blank\" href=https://colab.research.google.com/notebooks/data_table.ipynb>data table notebook</a>'\n",
              "          + ' to learn more about interactive tables.';\n",
              "        element.innerHTML = '';\n",
              "        dataTable['output_type'] = 'display_data';\n",
              "        await google.colab.output.renderOutput(dataTable, element);\n",
              "        const docLink = document.createElement('div');\n",
              "        docLink.innerHTML = docLinkHtml;\n",
              "        element.appendChild(docLink);\n",
              "      }\n",
              "    </script>\n",
              "  </div>\n",
              "\n",
              "\n",
              "<div id=\"df-4491fc9b-3a5b-44bc-bfac-cf88027200e3\">\n",
              "  <button class=\"colab-df-quickchart\" onclick=\"quickchart('df-4491fc9b-3a5b-44bc-bfac-cf88027200e3')\"\n",
              "            title=\"Suggest charts\"\n",
              "            style=\"display:none;\">\n",
              "\n",
              "<svg xmlns=\"http://www.w3.org/2000/svg\" height=\"24px\"viewBox=\"0 0 24 24\"\n",
              "     width=\"24px\">\n",
              "    <g>\n",
              "        <path d=\"M19 3H5c-1.1 0-2 .9-2 2v14c0 1.1.9 2 2 2h14c1.1 0 2-.9 2-2V5c0-1.1-.9-2-2-2zM9 17H7v-7h2v7zm4 0h-2V7h2v10zm4 0h-2v-4h2v4z\"/>\n",
              "    </g>\n",
              "</svg>\n",
              "  </button>\n",
              "\n",
              "<style>\n",
              "  .colab-df-quickchart {\n",
              "      --bg-color: #E8F0FE;\n",
              "      --fill-color: #1967D2;\n",
              "      --hover-bg-color: #E2EBFA;\n",
              "      --hover-fill-color: #174EA6;\n",
              "      --disabled-fill-color: #AAA;\n",
              "      --disabled-bg-color: #DDD;\n",
              "  }\n",
              "\n",
              "  [theme=dark] .colab-df-quickchart {\n",
              "      --bg-color: #3B4455;\n",
              "      --fill-color: #D2E3FC;\n",
              "      --hover-bg-color: #434B5C;\n",
              "      --hover-fill-color: #FFFFFF;\n",
              "      --disabled-bg-color: #3B4455;\n",
              "      --disabled-fill-color: #666;\n",
              "  }\n",
              "\n",
              "  .colab-df-quickchart {\n",
              "    background-color: var(--bg-color);\n",
              "    border: none;\n",
              "    border-radius: 50%;\n",
              "    cursor: pointer;\n",
              "    display: none;\n",
              "    fill: var(--fill-color);\n",
              "    height: 32px;\n",
              "    padding: 0;\n",
              "    width: 32px;\n",
              "  }\n",
              "\n",
              "  .colab-df-quickchart:hover {\n",
              "    background-color: var(--hover-bg-color);\n",
              "    box-shadow: 0 1px 2px rgba(60, 64, 67, 0.3), 0 1px 3px 1px rgba(60, 64, 67, 0.15);\n",
              "    fill: var(--button-hover-fill-color);\n",
              "  }\n",
              "\n",
              "  .colab-df-quickchart-complete:disabled,\n",
              "  .colab-df-quickchart-complete:disabled:hover {\n",
              "    background-color: var(--disabled-bg-color);\n",
              "    fill: var(--disabled-fill-color);\n",
              "    box-shadow: none;\n",
              "  }\n",
              "\n",
              "  .colab-df-spinner {\n",
              "    border: 2px solid var(--fill-color);\n",
              "    border-color: transparent;\n",
              "    border-bottom-color: var(--fill-color);\n",
              "    animation:\n",
              "      spin 1s steps(1) infinite;\n",
              "  }\n",
              "\n",
              "  @keyframes spin {\n",
              "    0% {\n",
              "      border-color: transparent;\n",
              "      border-bottom-color: var(--fill-color);\n",
              "      border-left-color: var(--fill-color);\n",
              "    }\n",
              "    20% {\n",
              "      border-color: transparent;\n",
              "      border-left-color: var(--fill-color);\n",
              "      border-top-color: var(--fill-color);\n",
              "    }\n",
              "    30% {\n",
              "      border-color: transparent;\n",
              "      border-left-color: var(--fill-color);\n",
              "      border-top-color: var(--fill-color);\n",
              "      border-right-color: var(--fill-color);\n",
              "    }\n",
              "    40% {\n",
              "      border-color: transparent;\n",
              "      border-right-color: var(--fill-color);\n",
              "      border-top-color: var(--fill-color);\n",
              "    }\n",
              "    60% {\n",
              "      border-color: transparent;\n",
              "      border-right-color: var(--fill-color);\n",
              "    }\n",
              "    80% {\n",
              "      border-color: transparent;\n",
              "      border-right-color: var(--fill-color);\n",
              "      border-bottom-color: var(--fill-color);\n",
              "    }\n",
              "    90% {\n",
              "      border-color: transparent;\n",
              "      border-bottom-color: var(--fill-color);\n",
              "    }\n",
              "  }\n",
              "</style>\n",
              "\n",
              "  <script>\n",
              "    async function quickchart(key) {\n",
              "      const quickchartButtonEl =\n",
              "        document.querySelector('#' + key + ' button');\n",
              "      quickchartButtonEl.disabled = true;  // To prevent multiple clicks.\n",
              "      quickchartButtonEl.classList.add('colab-df-spinner');\n",
              "      try {\n",
              "        const charts = await google.colab.kernel.invokeFunction(\n",
              "            'suggestCharts', [key], {});\n",
              "      } catch (error) {\n",
              "        console.error('Error during call to suggestCharts:', error);\n",
              "      }\n",
              "      quickchartButtonEl.classList.remove('colab-df-spinner');\n",
              "      quickchartButtonEl.classList.add('colab-df-quickchart-complete');\n",
              "    }\n",
              "    (() => {\n",
              "      let quickchartButtonEl =\n",
              "        document.querySelector('#df-4491fc9b-3a5b-44bc-bfac-cf88027200e3 button');\n",
              "      quickchartButtonEl.style.display =\n",
              "        google.colab.kernel.accessAllowed ? 'block' : 'none';\n",
              "    })();\n",
              "  </script>\n",
              "</div>\n",
              "    </div>\n",
              "  </div>\n"
            ]
          },
          "metadata": {},
          "execution_count": 25
        }
      ]
    },
    {
      "cell_type": "code",
      "source": [
        "sns.heatmap(data[numerical_columns].corr())"
      ],
      "metadata": {
        "colab": {
          "base_uri": "https://localhost:8080/",
          "height": 592
        },
        "id": "Q0egd0tPF2ry",
        "outputId": "ccb72ddb-956c-43ae-ad91-e9bd1b445652"
      },
      "execution_count": null,
      "outputs": [
        {
          "output_type": "execute_result",
          "data": {
            "text/plain": [
              "<Axes: >"
            ]
          },
          "metadata": {},
          "execution_count": 26
        },
        {
          "output_type": "display_data",
          "data": {
            "text/plain": [
              "<Figure size 640x480 with 2 Axes>"
            ],
            "image/png": "[encoded data removed]"
          },
          "metadata": {}
        }
      ]
    },
    {
      "cell_type": "code",
      "source": [
        "data = data.drop('Number of rooms', axis=1)"
      ],
      "metadata": {
        "id": "Rwrz0Cpd28b4"
      },
      "execution_count": null,
      "outputs": []
    },
    {
      "cell_type": "markdown",
      "source": [
        "## Train test split"
      ],
      "metadata": {
        "id": "i53n6FItHisK"
      }
    },
    {
      "cell_type": "code",
      "source": [
        "train_data, test_data = train_test_split(data, test_size=.3, random_state=17)"
      ],
      "metadata": {
        "id": "wVhG_LhNHkjy"
      },
      "execution_count": null,
      "outputs": []
    },
    {
      "cell_type": "markdown",
      "source": [
        "## Data scaling"
      ],
      "metadata": {
        "id": "DlZWNyPZHgfy"
      }
    },
    {
      "cell_type": "code",
      "source": [
        "columns_to_scale = [\n",
        "    'Price', 'm² (Gross)', 'm² (Net)', 'Floor location',\n",
        "    'Number of floors', 'Number of bathrooms'\n",
        "    ]"
      ],
      "metadata": {
        "id": "pR-KAGNkH4sc"
      },
      "execution_count": null,
      "outputs": []
    },
    {
      "cell_type": "code",
      "source": [
        "scaler = StandardScaler()\n",
        "train_data[columns_to_scale] = scaler.fit_transform(train_data[columns_to_scale])\n",
        "test_data[columns_to_scale] = scaler.transform(test_data[columns_to_scale])"
      ],
      "metadata": {
        "id": "6Fv9ndUCIFbK"
      },
      "execution_count": null,
      "outputs": []
    },
    {
      "cell_type": "code",
      "source": [
        "train_features = train_data.drop('Price', axis=1)\n",
        "train_labels = train_data['Price']\n",
        "test_features = test_data.drop('Price', axis=1)\n",
        "test_labels = test_data['Price']"
      ],
      "metadata": {
        "id": "_mxbAI5iIWvS"
      },
      "execution_count": null,
      "outputs": []
    },
    {
      "cell_type": "markdown",
      "source": [
        "## Backward feature elimination"
      ],
      "metadata": {
        "id": "SjyWcN2bHd_6"
      }
    },
    {
      "cell_type": "code",
      "source": [
        "features_to_remove = []\n",
        "\n",
        "for feature in tqdm(train_features.columns):\n",
        "    feature_selection_model = sm.OLS(endog=train_labels, exog=train_features).fit()\n",
        "    results_as_html = feature_selection_model.summary().tables[1].as_html()\n",
        "    results_df = pd.read_html(results_as_html, header=0, index_col=0)[0]\n",
        "    max_p_value = results_df['P>|t|'].max()\n",
        "    if max_p_value > .05:\n",
        "        feature_to_remove = results_df['P>|t|'].idxmax()\n",
        "        train_features = train_features.drop(, axis=1)\n",
        "        features_to_remove.append(feature_to_remove)\n",
        "    else:\n",
        "        break"
      ],
      "metadata": {
        "colab": {
          "base_uri": "https://localhost:8080/"
        },
        "id": "i0muZYYQOyD5",
        "outputId": "0a630063-f5cf-4651-97dd-988a40ad6ea4"
      },
      "execution_count": null,
      "outputs": [
        {
          "output_type": "stream",
          "name": "stderr",
          "text": [
            " 44%|████▍     | 382/869 [1:12:24<1:32:19, 11.37s/it]\n"
          ]
        }
      ]
    },
    {
      "cell_type": "code",
      "source": [
        "test_features = test_features.drop(features_to_remove, axis=1)"
      ],
      "metadata": {
        "id": "BIBK5qfBPDSI"
      },
      "execution_count": null,
      "outputs": []
    },
    {
      "cell_type": "markdown",
      "source": [
        "## Cleaning outliers"
      ],
      "metadata": {
        "id": "p_5U4ino3PLS"
      }
    },
    {
      "cell_type": "code",
      "source": [
        "outlier_detection_model = IsolationForest()\n",
        "outlier_detection_model.fit(train_features)"
      ],
      "metadata": {
        "colab": {
          "base_uri": "https://localhost:8080/",
          "height": 75
        },
        "id": "lt_8AWPy3RI3",
        "outputId": "b7ed8a45-39b5-4cd9-fcd7-71daf84f1387"
      },
      "execution_count": null,
      "outputs": [
        {
          "output_type": "execute_result",
          "data": {
            "text/plain": [
              "IsolationForest()"
            ],
            "text/html": [
              "<style>#sk-container-id-3 {color: black;background-color: white;}#sk-container-id-3 pre{padding: 0;}#sk-container-id-3 div.sk-toggleable {background-color: white;}#sk-container-id-3 label.sk-toggleable__label {cursor: pointer;display: block;width: 100%;margin-bottom: 0;padding: 0.3em;box-sizing: border-box;text-align: center;}#sk-container-id-3 label.sk-toggleable__label-arrow:before {content: \"▸\";float: left;margin-right: 0.25em;color: #696969;}#sk-container-id-3 label.sk-toggleable__label-arrow:hover:before {color: black;}#sk-container-id-3 div.sk-estimator:hover label.sk-toggleable__label-arrow:before {color: black;}#sk-container-id-3 div.sk-toggleable__content {max-height: 0;max-width: 0;overflow: hidden;text-align: left;background-color: #f0f8ff;}#sk-container-id-3 div.sk-toggleable__content pre {margin: 0.2em;color: black;border-radius: 0.25em;background-color: #f0f8ff;}#sk-container-id-3 input.sk-toggleable__control:checked~div.sk-toggleable__content {max-height: 200px;max-width: 100%;overflow: auto;}#sk-container-id-3 input.sk-toggleable__control:checked~label.sk-toggleable__label-arrow:before {content: \"▾\";}#sk-container-id-3 div.sk-estimator input.sk-toggleable__control:checked~label.sk-toggleable__label {background-color: #d4ebff;}#sk-container-id-3 div.sk-label input.sk-toggleable__control:checked~label.sk-toggleable__label {background-color: #d4ebff;}#sk-container-id-3 input.sk-hidden--visually {border: 0;clip: rect(1px 1px 1px 1px);clip: rect(1px, 1px, 1px, 1px);height: 1px;margin: -1px;overflow: hidden;padding: 0;position: absolute;width: 1px;}#sk-container-id-3 div.sk-estimator {font-family: monospace;background-color: #f0f8ff;border: 1px dotted black;border-radius: 0.25em;box-sizing: border-box;margin-bottom: 0.5em;}#sk-container-id-3 div.sk-estimator:hover {background-color: #d4ebff;}#sk-container-id-3 div.sk-parallel-item::after {content: \"\";width: 100%;border-bottom: 1px solid gray;flex-grow: 1;}#sk-container-id-3 div.sk-label:hover label.sk-toggleable__label {background-color: #d4ebff;}#sk-container-id-3 div.sk-serial::before {content: \"\";position: absolute;border-left: 1px solid gray;box-sizing: border-box;top: 0;bottom: 0;left: 50%;z-index: 0;}#sk-container-id-3 div.sk-serial {display: flex;flex-direction: column;align-items: center;background-color: white;padding-right: 0.2em;padding-left: 0.2em;position: relative;}#sk-container-id-3 div.sk-item {position: relative;z-index: 1;}#sk-container-id-3 div.sk-parallel {display: flex;align-items: stretch;justify-content: center;background-color: white;position: relative;}#sk-container-id-3 div.sk-item::before, #sk-container-id-3 div.sk-parallel-item::before {content: \"\";position: absolute;border-left: 1px solid gray;box-sizing: border-box;top: 0;bottom: 0;left: 50%;z-index: -1;}#sk-container-id-3 div.sk-parallel-item {display: flex;flex-direction: column;z-index: 1;position: relative;background-color: white;}#sk-container-id-3 div.sk-parallel-item:first-child::after {align-self: flex-end;width: 50%;}#sk-container-id-3 div.sk-parallel-item:last-child::after {align-self: flex-start;width: 50%;}#sk-container-id-3 div.sk-parallel-item:only-child::after {width: 0;}#sk-container-id-3 div.sk-dashed-wrapped {border: 1px dashed gray;margin: 0 0.4em 0.5em 0.4em;box-sizing: border-box;padding-bottom: 0.4em;background-color: white;}#sk-container-id-3 div.sk-label label {font-family: monospace;font-weight: bold;display: inline-block;line-height: 1.2em;}#sk-container-id-3 div.sk-label-container {text-align: center;}#sk-container-id-3 div.sk-container {/* jupyter's `normalize.less` sets `[hidden] { display: none; }` but bootstrap.min.css set `[hidden] { display: none !important; }` so we also need the `!important` here to be able to override the default hidden behavior on the sphinx rendered scikit-learn.org. See: https://github.com/scikit-learn/scikit-learn/issues/21755 */display: inline-block !important;position: relative;}#sk-container-id-3 div.sk-text-repr-fallback {display: none;}</style><div id=\"sk-container-id-3\" class=\"sk-top-container\"><div class=\"sk-text-repr-fallback\"><pre>IsolationForest()</pre><b>In a Jupyter environment, please rerun this cell to show the HTML representation or trust the notebook. <br />On GitHub, the HTML representation is unable to render, please try loading this page with nbviewer.org.</b></div><div class=\"sk-container\" hidden><div class=\"sk-item\"><div class=\"sk-estimator sk-toggleable\"><input class=\"sk-toggleable__control sk-hidden--visually\" id=\"sk-estimator-id-3\" type=\"checkbox\" checked><label for=\"sk-estimator-id-3\" class=\"sk-toggleable__label sk-toggleable__label-arrow\">IsolationForest</label><div class=\"sk-toggleable__content\"><pre>IsolationForest()</pre></div></div></div></div></div>"
            ]
          },
          "metadata": {},
          "execution_count": 44
        }
      ]
    },
    {
      "cell_type": "code",
      "source": [
        "anomaly_scores = outlier_detection_model.decision_function(train_features)"
      ],
      "metadata": {
        "id": "87hPKr0e4AKK"
      },
      "execution_count": null,
      "outputs": []
    },
    {
      "cell_type": "code",
      "source": [
        "threshold = -0.5\n",
        "outlier_mask = anomaly_scores < threshold\n",
        "\n",
        "train_features = train_features[~outlier_mask]"
      ],
      "metadata": {
        "id": "GtXtoLb14Ld_"
      },
      "execution_count": null,
      "outputs": []
    },
    {
      "cell_type": "markdown",
      "source": [
        "# Data modeling"
      ],
      "metadata": {
        "id": "AJJRGsAePBOo"
      }
    },
    {
      "cell_type": "markdown",
      "source": [
        "## Model training"
      ],
      "metadata": {
        "id": "qinBcLcH53UX"
      }
    },
    {
      "cell_type": "code",
      "source": [
        "model = xgb.XGBRegressor(\n",
        "    learning_rate=.1, n_estimators=4, max_depth=400, random_state=17\n",
        ")\n",
        "model.fit(train_features, train_labels)"
      ],
      "metadata": {
        "id": "zohVs3PUPCvv",
        "colab": {
          "base_uri": "https://localhost:8080/",
          "height": 248
        },
        "outputId": "9f73e12d-d22c-4a1b-b544-880b5eef5f26"
      },
      "execution_count": null,
      "outputs": [
        {
          "output_type": "execute_result",
          "data": {
            "text/plain": [
              "XGBRegressor(base_score=None, booster=None, callbacks=None,\n",
              "             colsample_bylevel=None, colsample_bynode=None,\n",
              "             colsample_bytree=None, device=None, early_stopping_rounds=None,\n",
              "             enable_categorical=False, eval_metric=None, feature_types=None,\n",
              "             gamma=None, grow_policy=None, importance_type=None,\n",
              "             interaction_constraints=None, learning_rate=0.1, max_bin=None,\n",
              "             max_cat_threshold=None, max_cat_to_onehot=None,\n",
              "             max_delta_step=None, max_depth=400, max_leaves=None,\n",
              "             min_child_weight=None, missing=nan, monotone_constraints=None,\n",
              "             multi_strategy=None, n_estimators=4, n_jobs=None,\n",
              "             num_parallel_tree=None, random_state=17, ...)"
            ],
            "text/html": [
              "<style>#sk-container-id-5 {color: black;background-color: white;}#sk-container-id-5 pre{padding: 0;}#sk-container-id-5 div.sk-toggleable {background-color: white;}#sk-container-id-5 label.sk-toggleable__label {cursor: pointer;display: block;width: 100%;margin-bottom: 0;padding: 0.3em;box-sizing: border-box;text-align: center;}#sk-container-id-5 label.sk-toggleable__label-arrow:before {content: \"▸\";float: left;margin-right: 0.25em;color: #696969;}#sk-container-id-5 label.sk-toggleable__label-arrow:hover:before {color: black;}#sk-container-id-5 div.sk-estimator:hover label.sk-toggleable__label-arrow:before {color: black;}#sk-container-id-5 div.sk-toggleable__content {max-height: 0;max-width: 0;overflow: hidden;text-align: left;background-color: #f0f8ff;}#sk-container-id-5 div.sk-toggleable__content pre {margin: 0.2em;color: black;border-radius: 0.25em;background-color: #f0f8ff;}#sk-container-id-5 input.sk-toggleable__control:checked~div.sk-toggleable__content {max-height: 200px;max-width: 100%;overflow: auto;}#sk-container-id-5 input.sk-toggleable__control:checked~label.sk-toggleable__label-arrow:before {content: \"▾\";}#sk-container-id-5 div.sk-estimator input.sk-toggleable__control:checked~label.sk-toggleable__label {background-color: #d4ebff;}#sk-container-id-5 div.sk-label input.sk-toggleable__control:checked~label.sk-toggleable__label {background-color: #d4ebff;}#sk-container-id-5 input.sk-hidden--visually {border: 0;clip: rect(1px 1px 1px 1px);clip: rect(1px, 1px, 1px, 1px);height: 1px;margin: -1px;overflow: hidden;padding: 0;position: absolute;width: 1px;}#sk-container-id-5 div.sk-estimator {font-family: monospace;background-color: #f0f8ff;border: 1px dotted black;border-radius: 0.25em;box-sizing: border-box;margin-bottom: 0.5em;}#sk-container-id-5 div.sk-estimator:hover {background-color: #d4ebff;}#sk-container-id-5 div.sk-parallel-item::after {content: \"\";width: 100%;border-bottom: 1px solid gray;flex-grow: 1;}#sk-container-id-5 div.sk-label:hover label.sk-toggleable__label {background-color: #d4ebff;}#sk-container-id-5 div.sk-serial::before {content: \"\";position: absolute;border-left: 1px solid gray;box-sizing: border-box;top: 0;bottom: 0;left: 50%;z-index: 0;}#sk-container-id-5 div.sk-serial {display: flex;flex-direction: column;align-items: center;background-color: white;padding-right: 0.2em;padding-left: 0.2em;position: relative;}#sk-container-id-5 div.sk-item {position: relative;z-index: 1;}#sk-container-id-5 div.sk-parallel {display: flex;align-items: stretch;justify-content: center;background-color: white;position: relative;}#sk-container-id-5 div.sk-item::before, #sk-container-id-5 div.sk-parallel-item::before {content: \"\";position: absolute;border-left: 1px solid gray;box-sizing: border-box;top: 0;bottom: 0;left: 50%;z-index: -1;}#sk-container-id-5 div.sk-parallel-item {display: flex;flex-direction: column;z-index: 1;position: relative;background-color: white;}#sk-container-id-5 div.sk-parallel-item:first-child::after {align-self: flex-end;width: 50%;}#sk-container-id-5 div.sk-parallel-item:last-child::after {align-self: flex-start;width: 50%;}#sk-container-id-5 div.sk-parallel-item:only-child::after {width: 0;}#sk-container-id-5 div.sk-dashed-wrapped {border: 1px dashed gray;margin: 0 0.4em 0.5em 0.4em;box-sizing: border-box;padding-bottom: 0.4em;background-color: white;}#sk-container-id-5 div.sk-label label {font-family: monospace;font-weight: bold;display: inline-block;line-height: 1.2em;}#sk-container-id-5 div.sk-label-container {text-align: center;}#sk-container-id-5 div.sk-container {/* jupyter's `normalize.less` sets `[hidden] { display: none; }` but bootstrap.min.css set `[hidden] { display: none !important; }` so we also need the `!important` here to be able to override the default hidden behavior on the sphinx rendered scikit-learn.org. See: https://github.com/scikit-learn/scikit-learn/issues/21755 */display: inline-block !important;position: relative;}#sk-container-id-5 div.sk-text-repr-fallback {display: none;}</style><div id=\"sk-container-id-5\" class=\"sk-top-container\"><div class=\"sk-text-repr-fallback\"><pre>XGBRegressor(base_score=None, booster=None, callbacks=None,\n",
              "             colsample_bylevel=None, colsample_bynode=None,\n",
              "             colsample_bytree=None, device=None, early_stopping_rounds=None,\n",
              "             enable_categorical=False, eval_metric=None, feature_types=None,\n",
              "             gamma=None, grow_policy=None, importance_type=None,\n",
              "             interaction_constraints=None, learning_rate=0.1, max_bin=None,\n",
              "             max_cat_threshold=None, max_cat_to_onehot=None,\n",
              "             max_delta_step=None, max_depth=400, max_leaves=None,\n",
              "             min_child_weight=None, missing=nan, monotone_constraints=None,\n",
              "             multi_strategy=None, n_estimators=4, n_jobs=None,\n",
              "             num_parallel_tree=None, random_state=17, ...)</pre><b>In a Jupyter environment, please rerun this cell to show the HTML representation or trust the notebook. <br />On GitHub, the HTML representation is unable to render, please try loading this page with nbviewer.org.</b></div><div class=\"sk-container\" hidden><div class=\"sk-item\"><div class=\"sk-estimator sk-toggleable\"><input class=\"sk-toggleable__control sk-hidden--visually\" id=\"sk-estimator-id-5\" type=\"checkbox\" checked><label for=\"sk-estimator-id-5\" class=\"sk-toggleable__label sk-toggleable__label-arrow\">XGBRegressor</label><div class=\"sk-toggleable__content\"><pre>XGBRegressor(base_score=None, booster=None, callbacks=None,\n",
              "             colsample_bylevel=None, colsample_bynode=None,\n",
              "             colsample_bytree=None, device=None, early_stopping_rounds=None,\n",
              "             enable_categorical=False, eval_metric=None, feature_types=None,\n",
              "             gamma=None, grow_policy=None, importance_type=None,\n",
              "             interaction_constraints=None, learning_rate=0.1, max_bin=None,\n",
              "             max_cat_threshold=None, max_cat_to_onehot=None,\n",
              "             max_delta_step=None, max_depth=400, max_leaves=None,\n",
              "             min_child_weight=None, missing=nan, monotone_constraints=None,\n",
              "             multi_strategy=None, n_estimators=4, n_jobs=None,\n",
              "             num_parallel_tree=None, random_state=17, ...)</pre></div></div></div></div></div>"
            ]
          },
          "metadata": {},
          "execution_count": 49
        }
      ]
    },
    {
      "cell_type": "markdown",
      "source": [
        "## Model evaluation"
      ],
      "metadata": {
        "id": "VCMyvVJY50IX"
      }
    },
    {
      "cell_type": "code",
      "source": [
        "mean_squared_error(train_labels, model.predict(train_features))"
      ],
      "metadata": {
        "id": "FczQ7FVk1A_Z",
        "outputId": "f48081e9-c8ca-44a3-fcd3-ec674885d41d",
        "colab": {
          "base_uri": "https://localhost:8080/"
        }
      },
      "execution_count": null,
      "outputs": [
        {
          "output_type": "execute_result",
          "data": {
            "text/plain": [
              "0.4520851758190634"
            ]
          },
          "metadata": {},
          "execution_count": 51
        }
      ]
    },
    {
      "cell_type": "code",
      "source": [
        "mean_squared_error(test_labels, model.predict(test_features))"
      ],
      "metadata": {
        "colab": {
          "base_uri": "https://localhost:8080/"
        },
        "id": "NpHT9CbI5CAO",
        "outputId": "026e918b-6329-495d-e9b4-4b515b978237"
      },
      "execution_count": null,
      "outputs": [
        {
          "output_type": "execute_result",
          "data": {
            "text/plain": [
              "0.4943948337346558"
            ]
          },
          "metadata": {},
          "execution_count": 50
        }
      ]
    }
  ]
}